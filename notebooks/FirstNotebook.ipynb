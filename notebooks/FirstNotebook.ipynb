{
 "cells": [
  {
   "cell_type": "code",
   "execution_count": null,
   "id": "07b534fe",
   "metadata": {},
   "outputs": [],
   "source": [
    "# "
   ]
  },
  {
   "cell_type": "code",
   "execution_count": null,
   "id": "1478d59d",
   "metadata": {},
   "outputs": [],
   "source": []
  },
  {
   "cell_type": "code",
   "execution_count": null,
   "id": "7bc7a6bf",
   "metadata": {},
   "outputs": [],
   "source": []
  },
  {
   "cell_type": "code",
   "execution_count": null,
   "id": "4aa6833e",
   "metadata": {},
   "outputs": [],
   "source": []
  },
  {
   "cell_type": "markdown",
   "id": "c535528b",
   "metadata": {},
   "source": [
    "# this is a level 1 heading...\n",
    "## and this is level 2\n",
    "### and level 3...\n",
    "\n",
    "Without hashtags, plain text. But can be **bold**, __bold__ or *italic* or _italic_\n",
    "\n",
    "Skip a line for a new paragraph\n",
    "\n",
    "* bullet\n",
    "* lists\n",
    "* with\n",
    "* asterisks\n",
    "\n",
    "or\n",
    "1. make\n",
    "2. numbered\n",
    "3. lists\n",
    "\n",
    "Add [hyperlinks](https://www.example.com)\n",
    "\n",
    "Add inline code with backticks `print('Hello')` or code blocks with triple:\n",
    "```\n",
    "for n in range(5):\n",
    "    print(n)\n",
    "```\n",
    "\n",
    "or indent 4 spaces after line break:\n",
    "    \n",
    "    for n in range(5,10):\n",
    "        print(n)\n"
   ]
  },
  {
   "cell_type": "code",
   "execution_count": null,
   "id": "c38984a9",
   "metadata": {},
   "outputs": [],
   "source": []
  }
 ],
 "metadata": {
  "kernelspec": {
   "display_name": "Python [conda env:.conda-pg] *",
   "language": "python",
   "name": "conda-env-.conda-pg-py"
  },
  "language_info": {
   "codemirror_mode": {
    "name": "ipython",
    "version": 3
   },
   "file_extension": ".py",
   "mimetype": "text/x-python",
   "name": "python",
   "nbconvert_exporter": "python",
   "pygments_lexer": "ipython3",
   "version": "3.10.0"
  }
 },
 "nbformat": 4,
 "nbformat_minor": 5
}
