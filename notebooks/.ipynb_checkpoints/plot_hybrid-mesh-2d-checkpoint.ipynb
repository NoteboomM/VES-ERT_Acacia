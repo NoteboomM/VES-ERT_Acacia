{
 "cells": [
  {
   "cell_type": "code",
   "execution_count": null,
   "metadata": {},
   "outputs": [],
   "source": [
    "# Checkout www.pygimli.org for more examples"
   ]
  },
  {
   "cell_type": "markdown",
   "metadata": {},
   "source": [
    "\n",
    "# Building a hybrid mesh in 2D\n",
    "\n",
    "In some cases, the modelling domain may require flexibility in one region and\n",
    "equidistant structure in another. In this short example, we demonstrate how to\n",
    "accomplish this for a two-dimensional mesh consisting of a region with regularly\n",
    "spaced quadrilaterals and a region with unstructured triangles.\n"
   ]
  },
  {
   "cell_type": "markdown",
   "metadata": {},
   "source": [
    "We start by importing numpy, matplotlib and pygimli with its required components.\n",
    "\n"
   ]
  },
  {
   "cell_type": "code",
   "execution_count": null,
   "metadata": {},
   "outputs": [],
   "source": [
    "import numpy as np\n",
    "\n",
    "import pygimli as pg\n",
    "import pygimli.meshtools as mt"
   ]
  },
  {
   "cell_type": "markdown",
   "metadata": {},
   "source": [
    "We continue by building a regular grid and assign the marker 2 to all cells.\n",
    "\n"
   ]
  },
  {
   "cell_type": "code",
   "execution_count": null,
   "metadata": {},
   "outputs": [],
   "source": [
    "xmin, xmax = 0., 50.\n",
    "zmin, zmax = -50., -25.\n",
    "\n",
    "xreg = np.linspace(xmin, xmax, 13)\n",
    "zreg = np.linspace(zmin, zmax, 13)\n",
    "\n",
    "mesh1 = mt.createGrid(xreg, zreg, marker=2)\n",
    "mesh1.setCellMarkers([2]*mesh1.cellCount())\n",
    "print(mesh1)"
   ]
  },
  {
   "cell_type": "markdown",
   "metadata": {},
   "source": [
    "Next, we build an unstructured region on top by creating the polygon and\n",
    "calling triangle via pygimli's TriangleWrapper.\n",
    "\n"
   ]
  },
  {
   "cell_type": "code",
   "execution_count": null,
   "metadata": {},
   "outputs": [],
   "source": [
    "poly = pg.Mesh(2)  # empty 2d mesh\n",
    "nStart = poly.createNode(xmin, zmax, 0.0)\n",
    "\n",
    "nA = nStart\n",
    "for x in xreg[1:]:\n",
    "    nB = poly.createNode(x, zmax, 0.0)\n",
    "    poly.createEdge(nA, nB)\n",
    "    nA = nB\n",
    "\n",
    "z2 = 0.\n",
    "nA = poly.createNode(xmax, z2, 0.0)\n",
    "poly.createEdge(nB, nA)\n",
    "nB = poly.createNode(xmin, z2, 0.0)\n",
    "poly.createEdge(nA, nB)\n",
    "poly.createEdge(nB, nStart)\n",
    "\n",
    "mesh2 = mt.createMesh(poly, quality=31)\n",
    "mesh2.setCellMarkers([1]*mesh2.cellCount())\n",
    "print(mesh2)"
   ]
  },
  {
   "cell_type": "markdown",
   "metadata": {},
   "source": [
    "Finally, the grid and the unstructured mesh can be merged to single mesh for\n",
    "further modelling.\n",
    "\n"
   ]
  },
  {
   "cell_type": "code",
   "execution_count": null,
   "metadata": {},
   "outputs": [],
   "source": [
    "mesh3 = mt.mergeMeshes([mesh1, mesh2])"
   ]
  },
  {
   "cell_type": "markdown",
   "metadata": {},
   "source": [
    "Of course, you can treat the hybrid mesh like any other mesh and append a\n",
    "triangle boundary for example with the function\n",
    ":py:func:`pygimli.meshtools.grid.appendTriangleBoundary`.\n",
    "\n"
   ]
  },
  {
   "cell_type": "code",
   "execution_count": null,
   "metadata": {},
   "outputs": [],
   "source": [
    "mesh = mt.appendTriangleBoundary(mesh3, xbound=100., ybound=100., quality=31, smooth=True,\n",
    "                                 marker=3, isSubSurface=True, addNodes=5)\n",
    "\n",
    "ax, cb = pg.show(mesh, markers=True, showMesh=True)"
   ]
  }
 ],
 "metadata": {
  "kernelspec": {
   "display_name": "Python [conda env:.conda-pg] *",
   "language": "python",
   "name": "conda-env-.conda-pg-py"
  },
  "language_info": {
   "codemirror_mode": {
    "name": "ipython",
    "version": 3
   },
   "file_extension": ".py",
   "mimetype": "text/x-python",
   "name": "python",
   "nbconvert_exporter": "python",
   "pygments_lexer": "ipython3",
   "version": "3.10.14"
  }
 },
 "nbformat": 4,
 "nbformat_minor": 1
}
