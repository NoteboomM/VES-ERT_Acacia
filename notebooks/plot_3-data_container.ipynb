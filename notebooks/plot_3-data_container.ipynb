{
 "cells": [
  {
   "cell_type": "code",
   "execution_count": null,
   "metadata": {},
   "outputs": [],
   "source": [
    "# Checkout www.pygimli.org for more examples"
   ]
  },
  {
   "cell_type": "markdown",
   "metadata": {},
   "source": [
    "\n",
    "# The DataContainer class\n",
    "Data are often organized in a data container storing the individual data values\n",
    "as well as any description how they were obtained, e.g. the geometry of source\n",
    "and receivers.\n",
    "\n",
    "So first a data container holds vectors like in a dictionary, however, all of\n",
    "them need to have the same length defined by the .size() method.\n",
    "Assume we want to store Vertical Electrical Sounding (VES) data.\n"
   ]
  },
  {
   "cell_type": "code",
   "execution_count": 1,
   "metadata": {},
   "outputs": [],
   "source": [
    "# We start off with the typical imports\n",
    "import numpy as np\n",
    "import matplotlib.pyplot as plt\n",
    "import pygimli as pg\n",
    "from pygimli.physics import VESManager"
   ]
  },
  {
   "cell_type": "markdown",
   "metadata": {},
   "source": [
    "We define logarithmically equidistant AB/2 spacings\n",
    "\n",
    "\n"
   ]
  },
  {
   "cell_type": "code",
   "execution_count": 2,
   "metadata": {},
   "outputs": [
    {
     "name": "stdout",
     "output_type": "stream",
     "text": [
      "[   1.            1.99526231    3.98107171    7.94328235   15.84893192\n",
      "   31.6227766    63.09573445  125.89254118  251.18864315  501.18723363\n",
      " 1000.        ]\n"
     ]
    }
   ],
   "source": [
    "ab2 = np.logspace(0, 3, 11)\n",
    "print(ab2)"
   ]
  },
  {
   "cell_type": "markdown",
   "metadata": {},
   "source": [
    "We create an empty data container\n",
    "\n"
   ]
  },
  {
   "cell_type": "code",
   "execution_count": 3,
   "metadata": {},
   "outputs": [
    {
     "name": "stdout",
     "output_type": "stream",
     "text": [
      "Data: Sensors: 0 data: 0, nonzero entries: []\n"
     ]
    }
   ],
   "source": [
    "ves = pg.DataContainer()\n",
    "print(ves)"
   ]
  },
  {
   "cell_type": "markdown",
   "metadata": {},
   "source": [
    "We feed it into the data container just like in a dictionary.\n",
    "\n",
    "\n"
   ]
  },
  {
   "cell_type": "code",
   "execution_count": 4,
   "metadata": {},
   "outputs": [
    {
     "name": "stdout",
     "output_type": "stream",
     "text": [
      "Data: Sensors: 0 data: 11, nonzero entries: ['ab2', 'mn2']\n"
     ]
    }
   ],
   "source": [
    "ves[\"ab2\"] = ab2\n",
    "ves[\"mn2\"] = ab2 / 3\n",
    "print(ves)"
   ]
  },
  {
   "cell_type": "markdown",
   "metadata": {},
   "source": [
    "We now want to do a VES simulation and use the VES Manager for this task.\n",
    "\n",
    "\n"
   ]
  },
  {
   "cell_type": "code",
   "execution_count": 5,
   "metadata": {},
   "outputs": [
    {
     "name": "stdout",
     "output_type": "stream",
     "text": [
      "Data: Sensors: 0 data: 11, nonzero entries: ['ab2', 'mn2', 'rhoa']\n"
     ]
    }
   ],
   "source": [
    "mgr = VESManager()\n",
    "model = [10, 10, 100, 10, 1000]\n",
    "ves[\"rhoa\"] = mgr.simulate(model, ab2=ves[\"ab2\"], mn2=ves[\"mn2\"])\n",
    "print(ves)"
   ]
  },
  {
   "cell_type": "markdown",
   "metadata": {},
   "source": [
    "We can plot the sounding curve by assessing its fields\n",
    "\n",
    "\n"
   ]
  },
  {
   "cell_type": "code",
   "execution_count": 6,
   "metadata": {},
   "outputs": [
    {
     "data": {
      "image/png": "[encoded data removed]",
      "text/plain": [
       "<Figure size 640x480 with 1 Axes>"
      ]
     },
     "metadata": {},
     "output_type": "display_data"
    }
   ],
   "source": [
    "fig, ax = plt.subplots()\n",
    "ax.loglog(ves[\"rhoa\"], ves[\"ab2\"], \"x-\");\n",
    "ax.set_ylim(ax.get_ylim()[::-1])\n",
    "ax.grid(True)\n",
    "ax.set_xlabel(\"Apparent resistivity (Ohmm)\")\n",
    "ax.set_ylabel(\"AB/2 (m)\");"
   ]
  },
  {
   "cell_type": "markdown",
   "metadata": {},
   "source": [
    "A data container can be saved to disk\n",
    "\n",
    "\n"
   ]
  },
  {
   "cell_type": "code",
   "execution_count": 7,
   "metadata": {},
   "outputs": [
    {
     "name": "stdout",
     "output_type": "stream",
     "text": [
      "0\n",
      "# x y z\n",
      "11\n",
      "# ab2 mn2 rhoa valid \n",
      "1.00000000000000e+00\t3.33333333333333e-01\t9.99842595368026e+01\t0\n",
      "1.99526231496888e+00\t6.65087438322960e-01\t9.98766666391267e+01\t0\n",
      "3.98107170553497e+00\t1.32702390184499e+00\t9.90710153790337e+01\t0\n",
      "7.94328234724281e+00\t2.64776078241427e+00\t9.39205974843448e+01\t0\n",
      "1.58489319246111e+01\t5.28297730820371e+00\t7.33018913900196e+01\t0\n",
      "3.16227766016838e+01\t1.05409255338946e+01\t4.41998154306538e+01\t0\n",
      "6.30957344480193e+01\t2.10319114826731e+01\t5.14873009414442e+01\t0\n",
      "1.25892541179417e+02\t4.19641803931389e+01\t9.61269991281244e+01\t0\n",
      "2.51188643150958e+02\t8.37295477169860e+01\t1.76491691336385e+02\t0\n",
      "5.01187233627272e+02\t1.67062411209091e+02\t3.05345771380821e+02\t0\n",
      "1.00000000000000e+03\t3.33333333333333e+02\t4.83494826609041e+02\t0\n",
      "0\n",
      "\n"
     ]
    }
   ],
   "source": [
    "ves.save(\"ves.data\")\n",
    "print(open(\"ves.data\").read())"
   ]
  },
  {
   "cell_type": "markdown",
   "metadata": {},
   "source": [
    "The data are (along with a valid flat) in the second section.\n",
    "We can add arbitrary entries to the data container but define what to save.\n",
    "\n",
    "\n"
   ]
  },
  {
   "cell_type": "code",
   "execution_count": 8,
   "metadata": {},
   "outputs": [
    {
     "name": "stdout",
     "output_type": "stream",
     "text": [
      "Data: Sensors: 0 data: 11, nonzero entries: ['ab2', 'flag', 'mn2', 'rhoa']\n",
      "0\n",
      "# x y z\n",
      "0\n",
      "# ab2 mn2 rhoa\n",
      "0\n",
      "\n"
     ]
    }
   ],
   "source": [
    "ves[\"flag\"] = pg.Vector(ves[\"rhoa\"] > 100) + 1\n",
    "print(ves)\n",
    "ves.save(\"ves.data\", \"ab2 mn2 rhoa\")\n",
    "print(open(\"ves.data\").read())"
   ]
  },
  {
   "cell_type": "markdown",
   "metadata": {},
   "source": [
    "We can mask or unmask the data with a boolean vector.\n",
    "\n"
   ]
  },
  {
   "cell_type": "code",
   "execution_count": 9,
   "metadata": {},
   "outputs": [
    {
     "name": "stdout",
     "output_type": "stream",
     "text": [
      "Data: Sensors: 0 data: 11, nonzero entries: ['ab2', 'flag', 'mn2', 'rhoa', 'valid']\n"
     ]
    }
   ],
   "source": [
    "ves.markValid(ves[\"ab2\"] > 2)\n",
    "ves.save(\"ves.data\", \"ab2 rhoa\")  # note that only valid data are saved!\n",
    "print(ves)"
   ]
  },
  {
   "cell_type": "markdown",
   "metadata": {},
   "source": [
    "## Data containers with indexed data\n",
    "\n",
    "Assume we have data associate with a transmitter, receivers and a property U.\n",
    "The transmitter (Tx) and receiver (Rx) positions are stored separately and we\n",
    "refer them with an Index (integer). Therefore we define these fields index.\n",
    "\n",
    "\n"
   ]
  },
  {
   "cell_type": "code",
   "execution_count": 10,
   "metadata": {},
   "outputs": [
    {
     "name": "stdout",
     "output_type": "stream",
     "text": [
      "Data: Sensors: 0 data: 0, nonzero entries: ['Rx', 'Tx']\n"
     ]
    }
   ],
   "source": [
    "data = pg.DataContainer()\n",
    "data.registerSensorIndex(\"Tx\")\n",
    "data.registerSensorIndex(\"Rx\")\n",
    "print(data)"
   ]
  },
  {
   "cell_type": "markdown",
   "metadata": {},
   "source": [
    "Create a list of 10 sensors, 2m spacing\n",
    "\n",
    "\n"
   ]
  },
  {
   "cell_type": "code",
   "execution_count": 11,
   "metadata": {},
   "outputs": [
    {
     "name": "stdout",
     "output_type": "stream",
     "text": [
      "Data: Sensors: 10 data: 0, nonzero entries: ['Rx', 'Tx']\n"
     ]
    }
   ],
   "source": [
    "for x in np.arange(10):\n",
    "    data.createSensor([x*2, 0])\n",
    "\n",
    "print(data)"
   ]
  },
  {
   "cell_type": "markdown",
   "metadata": {},
   "source": [
    "We want to use all of them (and two more!) as receivers and a constant\n",
    "transmitter of number 2.\n",
    "\n",
    "\n"
   ]
  },
  {
   "cell_type": "code",
   "execution_count": 12,
   "metadata": {},
   "outputs": [
    {
     "name": "stdout",
     "output_type": "stream",
     "text": [
      "Data: Sensors: 10 data: 12, nonzero entries: ['Rx', 'Tx']\n",
      "10\n",
      "# x y z\n",
      "0\t0\t0\n",
      "2\t0\t0\n",
      "4\t0\t0\n",
      "6\t0\t0\n",
      "8\t0\t0\n",
      "10\t0\t0\n",
      "12\t0\t0\n",
      "14\t0\t0\n",
      "16\t0\t0\n",
      "18\t0\t0\n",
      "12\n",
      "# Rx Tx valid \n",
      "1\t3\t0\n",
      "2\t3\t0\n",
      "3\t3\t0\n",
      "4\t3\t0\n",
      "5\t3\t0\n",
      "6\t3\t0\n",
      "7\t3\t0\n",
      "8\t3\t0\n",
      "9\t3\t0\n",
      "10\t3\t0\n",
      "11\t3\t0\n",
      "12\t3\t0\n",
      "0\n",
      "\n"
     ]
    }
   ],
   "source": [
    "data[\"Rx\"] = np.arange(12)\n",
    "# data[\"Tx\"] = np.arange(9) # does not work as size matters!\n",
    "data[\"Tx\"] = pg.Vector(data.size(), 2)\n",
    "print(data)\n",
    "data.save(\"TxRx.data\")\n",
    "print(open(\"TxRx.data\").read())"
   ]
  },
  {
   "cell_type": "markdown",
   "metadata": {},
   "source": [
    "Again, we can mark the data validity.\n",
    "\n",
    "\n"
   ]
  },
  {
   "cell_type": "code",
   "execution_count": 13,
   "metadata": {},
   "outputs": [
    {
     "name": "stdout",
     "output_type": "stream",
     "text": [
      "12 [1.0, 1.0, 1.0, 1.0, 1.0, 1.0, 1.0, 1.0, 1.0, 1.0, 1.0, 1.0]\n",
      "[ 0  1  2  3  4  5  6  7  8  9 10 11]\n"
     ]
    }
   ],
   "source": [
    "data.markValid(data[\"Rx\"] >= 0)\n",
    "print(data[\"valid\"])\n",
    "print(data[\"Rx\"])"
   ]
  },
  {
   "cell_type": "markdown",
   "metadata": {},
   "source": [
    "or check the data validity automatically.\n",
    "\n",
    "\n"
   ]
  },
  {
   "cell_type": "code",
   "execution_count": 14,
   "metadata": {},
   "outputs": [
    {
     "name": "stdout",
     "output_type": "stream",
     "text": [
      "10 [1.0, 1.0, 1.0, 1.0, 1.0, 1.0, 1.0, 1.0, 1.0, 1.0]\n",
      "Data: Sensors: 10 data: 10, nonzero entries: ['Rx', 'Tx', 'valid']\n"
     ]
    }
   ],
   "source": [
    "data.checkDataValidity()\n",
    "print(data[\"valid\"])\n",
    "data.removeInvalid()\n",
    "print(data)\n",
    "# data.save(\"TxRx.data\");"
   ]
  },
  {
   "cell_type": "markdown",
   "metadata": {},
   "source": [
    "Suppose we want to compute the horizontal offset between Tx and Rx.\n",
    "We first retrieve the x position and use Tx and Rx as indices.\n",
    "\n",
    "\n"
   ]
  },
  {
   "cell_type": "code",
   "execution_count": 15,
   "metadata": {},
   "outputs": [
    {
     "name": "stdout",
     "output_type": "stream",
     "text": [
      "10 [4.0, 2.0, 0.0, 2.0, 4.0, 6.0, 8.0, 10.0, 12.0, 14.0]\n"
     ]
    }
   ],
   "source": [
    "sx = pg.x(data)\n",
    "data[\"dist\"] = np.abs(sx[data[\"Rx\"]] - sx[data[\"Tx\"]])\n",
    "print(data[\"dist\"])"
   ]
  },
  {
   "cell_type": "markdown",
   "metadata": {},
   "source": [
    "It might be useful to only use data where transmitter is not receiver.\n",
    "\n",
    "\n"
   ]
  },
  {
   "cell_type": "code",
   "execution_count": 16,
   "metadata": {},
   "outputs": [
    {
     "name": "stdout",
     "output_type": "stream",
     "text": [
      "Data: Sensors: 10 data: 10, nonzero entries: ['Rx', 'Tx', 'dist', 'valid']\n"
     ]
    }
   ],
   "source": [
    "data.markInvalid(data[\"Rx\"] == data[\"Tx\"])\n",
    "print(data)\n",
    "# data.save(\"TxRx.data\");"
   ]
  },
  {
   "cell_type": "markdown",
   "metadata": {},
   "source": [
    "They are still there but can be removed.\n",
    "\n",
    "\n"
   ]
  },
  {
   "cell_type": "code",
   "execution_count": 17,
   "metadata": {},
   "outputs": [
    {
     "name": "stdout",
     "output_type": "stream",
     "text": [
      "Data: Sensors: 10 data: 9, nonzero entries: ['Rx', 'Tx', 'dist', 'valid']\n"
     ]
    }
   ],
   "source": [
    "data.removeInvalid()\n",
    "print(data)"
   ]
  },
  {
   "cell_type": "markdown",
   "metadata": {},
   "source": [
    "At any stage we can create a new sensor\n",
    "\n",
    "\n"
   ]
  },
  {
   "cell_type": "code",
   "execution_count": 18,
   "metadata": {},
   "outputs": [
    {
     "name": "stdout",
     "output_type": "stream",
     "text": [
      "Data: Sensors: 10 data: 9, nonzero entries: ['Rx', 'Tx', 'dist', 'valid']\n"
     ]
    }
   ],
   "source": [
    "data.createSensor(data.sensors()[-1])\n",
    "print(data)  # no change"
   ]
  },
  {
   "cell_type": "markdown",
   "metadata": {},
   "source": [
    ", however, not at a position where already a sensor is\n",
    "\n",
    "\n"
   ]
  },
  {
   "cell_type": "code",
   "execution_count": 19,
   "metadata": {},
   "outputs": [
    {
     "name": "stdout",
     "output_type": "stream",
     "text": [
      "Data: Sensors: 11 data: 9, nonzero entries: ['Rx', 'Tx', 'dist', 'valid']\n"
     ]
    }
   ],
   "source": [
    "data.createSensor(data.sensors()[-1]+0.1)\n",
    "print(data)\n",
    "# data.save(\"TxRx.data\")"
   ]
  },
  {
   "cell_type": "markdown",
   "metadata": {},
   "source": [
    "Any DataContainer (indexed or not) can be visualized as matrix plot\n",
    "\n",
    "\n"
   ]
  },
  {
   "cell_type": "code",
   "execution_count": 20,
   "metadata": {},
   "outputs": [
    {
     "name": "stderr",
     "output_type": "stream",
     "text": [
      "19/03/24 - 14:29:41 - pyGIMLi - \u001b[0;32;49mINFO\u001b[0m - found 9 x values\n",
      "19/03/24 - 14:29:41 - pyGIMLi - \u001b[0;32;49mINFO\u001b[0m - found 1 y values\n",
      "19/03/24 - 14:29:41 - pyGIMLi - \u001b[0;32;49mINFO\u001b[0m - x vector length: 9\n",
      "19/03/24 - 14:29:41 - pyGIMLi - \u001b[0;32;49mINFO\u001b[0m - y vector length: 9\n",
      "19/03/24 - 14:29:41 - pyGIMLi - \u001b[0;32;49mINFO\u001b[0m - v vector length: 9\n"
     ]
    },
    {
     "data": {
      "image/png": "[encoded data removed]",
      "text/plain": [
       "<Figure size 640x480 with 2 Axes>"
      ]
     },
     "metadata": {},
     "output_type": "display_data"
    }
   ],
   "source": [
    "pg.viewer.mpl.showDataContainerAsMatrix(data, \"Rx\", \"Tx\", \"dist\");"
   ]
  },
  {
   "cell_type": "markdown",
   "metadata": {},
   "source": [
    "Instead of marking and filtering one can remove directly\n",
    "\n",
    "\n"
   ]
  },
  {
   "cell_type": "code",
   "execution_count": 21,
   "metadata": {},
   "outputs": [
    {
     "name": "stdout",
     "output_type": "stream",
     "text": [
      "9 [4.0, 2.0, 2.0, 4.0, 6.0, 8.0, 10.0, 12.0, 14.0]\n",
      "7 [4.0, 2.0, 2.0, 4.0, 6.0, 8.0, 10.0]\n",
      "Data: Sensors: 11 data: 7, nonzero entries: ['Rx', 'Tx', 'dist', 'valid']\n"
     ]
    }
   ],
   "source": [
    "print(data[\"dist\"])\n",
    "data.remove(data[\"dist\"] > 11)\n",
    "print(data[\"dist\"])\n",
    "print(data)"
   ]
  },
  {
   "cell_type": "markdown",
   "metadata": {},
   "source": [
    "Similar to the nodes of a mesh, the sensor positions can be changed.\n",
    "\n",
    "\n"
   ]
  },
  {
   "cell_type": "code",
   "execution_count": 22,
   "metadata": {},
   "outputs": [
    {
     "data": {
      "text/plain": [
       "1"
      ]
     },
     "execution_count": 22,
     "metadata": {},
     "output_type": "execute_result"
    }
   ],
   "source": [
    "data.scale([2, 1])\n",
    "data.translate([10, 0])\n",
    "data.save(\"TxRx.data\")"
   ]
  },
  {
   "cell_type": "markdown",
   "metadata": {},
   "source": [
    "Suppose a receiver has not been used\n",
    "\n",
    "\n"
   ]
  },
  {
   "cell_type": "code",
   "execution_count": 23,
   "metadata": {},
   "outputs": [
    {
     "name": "stdout",
     "output_type": "stream",
     "text": [
      "Data: Sensors: 8 data: 7, nonzero entries: ['Rx', 'Tx', 'dist', 'valid']\n"
     ]
    }
   ],
   "source": [
    "data[\"Rx\"][5] = data[\"Rx\"][4]\n",
    "data.removeUnusedSensors()\n",
    "print(data)"
   ]
  },
  {
   "cell_type": "markdown",
   "metadata": {},
   "source": [
    "or any measurement with it (as Rx or Tx) is corrupted\n",
    "\n",
    "\n"
   ]
  },
  {
   "cell_type": "code",
   "execution_count": null,
   "metadata": {},
   "outputs": [],
   "source": [
    "data.removeSensorIdx(2)\n",
    "print(data)"
   ]
  },
  {
   "cell_type": "markdown",
   "metadata": {},
   "source": [
    "There are specialized data containers with predefined indices like\n",
    "pg.DataContainerERT having indices for a, b, m and b electrodes.\n",
    "One can also add alias translators like C1, C2, P1, P2, so that\n",
    "dataERT[\"P1\"] will return dataERT[\"m\"]\n",
    "\n",
    "\n"
   ]
  }
 ],
 "metadata": {
  "kernelspec": {
   "display_name": "Python 3 (ipykernel)",
   "language": "python",
   "name": "python3"
  },
  "language_info": {
   "codemirror_mode": {
    "name": "ipython",
    "version": 3
   },
   "file_extension": ".py",
   "mimetype": "text/x-python",
   "name": "python",
   "nbconvert_exporter": "python",
   "pygments_lexer": "ipython3",
   "version": "3.9.18"
  }
 },
 "nbformat": 4,
 "nbformat_minor": 1
}
