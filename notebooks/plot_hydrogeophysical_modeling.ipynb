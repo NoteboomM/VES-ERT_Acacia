{
  "cells": [
    {
      "cell_type": "code",
      "execution_count": null,
      "metadata": {
        "collapsed": false
      },
      "outputs": [],
      "source": [
        "# Checkout www.pygimli.org for more examples"
      ]
    },
    {
      "cell_type": "markdown",
      "metadata": {},
      "source": [
        "\n# Hydrogeophysical modelling\n\nCoupled hydrogeophysical modelling example. This essentially represents the\nforward modelling step of the example presented in section 3.2 of the [pyGIMLi\npaper](http://www.sciencedirect.com/science/article/pii/S0098300417300584/pdfft?md5=44253eaacd5490e3fb32210671672496&pid=1-s2.0-S0098300417300584-main.pdf).\n"
      ]
    },
    {
      "cell_type": "code",
      "execution_count": null,
      "metadata": {
        "collapsed": false
      },
      "outputs": [],
      "source": [
        "import numpy as np\n\nimport pygimli as pg\nimport pygimli.meshtools as mt\nimport pygimli.physics.ert as ert\nimport pygimli.physics.petro as petro\nfrom pygimli.physics import ERTManager"
      ]
    },
    {
      "cell_type": "markdown",
      "metadata": {},
      "source": [
        "Create geometry definition for the modelling domain\n\n"
      ]
    },
    {
      "cell_type": "code",
      "execution_count": null,
      "metadata": {
        "collapsed": false
      },
      "outputs": [],
      "source": [
        "world = mt.createWorld(start=[-20, 0], end=[20, -16], layers=[-2, -8],\n                       worldMarker=False)\n\n# Create a heterogeneous block\nblock = mt.createRectangle(start=[-6, -3.5], end=[6, -6.0], marker=4,\n                           boundaryMarker=10, area=0.1)\n\n# Merge geometrical entities\ngeom = world + block\npg.show(geom, boundaryMarker=True)"
      ]
    },
    {
      "cell_type": "markdown",
      "metadata": {},
      "source": [
        "Create a mesh from the geometry definition\n\n"
      ]
    },
    {
      "cell_type": "code",
      "execution_count": null,
      "metadata": {
        "collapsed": false
      },
      "outputs": [],
      "source": [
        "mesh = mt.createMesh(geom, quality=32, area=0.2, smooth=[1, 10])\npg.show(mesh)"
      ]
    },
    {
      "cell_type": "markdown",
      "metadata": {},
      "source": [
        "Fluid flow in a porous medium of slow non-viscous and non-frictional hydraulic\nmovement is governed by Darcy's Law according to:\n\n\\begin{align}K^{-1}\\mathbf{v} + \\nabla p & = 0 \\\\\n   \\nabla \\cdot \\mathbf{v} & = 0\\\\\n   \\text{leading}\\,\\,\\text{to}\\,\\,\n   \\nabla\\cdot(K \\nabla p) & = 0 \\quad \\text{on} \\quad\\Omega\\end{align}\n\nWe begin by defining isotropic values of hydraulic conductivity $K$ and\nmapping these to each mesh cell:\n\n"
      ]
    },
    {
      "cell_type": "code",
      "execution_count": null,
      "metadata": {
        "collapsed": false
      },
      "outputs": [],
      "source": [
        "# Map regions to hydraulic conductivity in m/s\nkMap = [[1, 1e-8], [2, 5e-3], [3, 1e-4], [4, 8e-4]]\n\n# Map conductivity value per region to each cell in the given mesh\nK = pg.solver.parseMapToCellArray(kMap, mesh)\n\npg.show(mesh, data=K, label='Hydraulic conductivity $K$ in m/s', cMin=1e-5,\n        cMax=1e-2, logScale=True, grid=True)"
      ]
    },
    {
      "cell_type": "markdown",
      "metadata": {},
      "source": [
        "The problem further boundary conditions of the hydraulic potential. We use\n$p=p_0=0.75$ m on the left and $p=0$ on the right boundary of the modelling\ndomain, equaling a hydraulic gradient of 1.75%.\n\n"
      ]
    },
    {
      "cell_type": "code",
      "execution_count": null,
      "metadata": {
        "collapsed": false
      },
      "outputs": [],
      "source": [
        "# Dirichlet conditions for hydraulic potential\nleft = 0.75\nright = 0.0\npBound = {\"Dirichlet\": {1: left, 2: left, 3: left, 5: right, 6: right, 7: right}}"
      ]
    },
    {
      "cell_type": "markdown",
      "metadata": {},
      "source": [
        "We can now call the finite element solver with the generated mesh, hydraulic\nconductivity and the boundary condition. The sought hydraulic velocity\ndistribution can then be calculated as the gradient field of\n$\\mathbf{v}=-\\nabla p$ and visualized using the generic `pg.show()` function.\n\n"
      ]
    },
    {
      "cell_type": "code",
      "execution_count": null,
      "metadata": {
        "collapsed": false
      },
      "outputs": [],
      "source": [
        "# Solve for hydraulic potential\np = pg.solver.solveFiniteElements(mesh, a=K, bc=pBound)\n\n# Solve velocity as gradient of hydraulic potential\nvel = -pg.solver.grad(mesh, p) * np.asarray([K, K, K]).T\n\nax, _ = pg.show(mesh, data=pg.abs(vel) * 1000, cMin=0.05, cMax=0.15,\n                label='Velocity $v$ in mm/s', cMap='YlGnBu', hold=True)\nax, _ = pg.show(mesh, data=vel, ax=ax, color='k', linewidth=0.8, dropTol=1e-5,\n                hold=True)"
      ]
    },
    {
      "cell_type": "markdown",
      "metadata": {},
      "source": [
        "In the next step, we use this velocity field to simulate the dynamic movement\nof a particle (e.g., salt) concentration $c(\\mathbf{r}, t)$ in the aquifer\nby using the advection-diffusion equation:\n\n\\begin{align}\\frac{\\partial c}{\\partial t} = \\underbrace{\\nabla\\cdot(D \\nabla\n   c)}_{\\text{Diffusion / Dispersion}} - \\underbrace{\\nabla \\cdot\n   (\\mathbf{v}\\nabla c)}_{\\text{Advection}} + S\\end{align}\n\n"
      ]
    },
    {
      "cell_type": "code",
      "execution_count": null,
      "metadata": {
        "collapsed": false
      },
      "outputs": [],
      "source": [
        "S = pg.Vector(mesh.cellCount(), 0.0)\n\n# Fill injection source vector for a fixed injection position\nsourceCell = mesh.findCell([-19.1, -4.6])\nS[sourceCell.id()] = 1.0 / sourceCell.size()  # g/(l s)"
      ]
    },
    {
      "cell_type": "markdown",
      "metadata": {},
      "source": [
        "We define a time vector and common velocity-depending dispersion coefficient\n$D = \\alpha |\\mathbf{v}|$ with a dispersivity $\\alpha=1\\cdot10^{-2}$ m.\nWe solve the advection-diffsuion equation on the equation level with the finite\nvolume solver, which results in a particle concentration $c(\\mathbf{r},t)$\n(in g/l) for each cell center and time step.\n\n"
      ]
    },
    {
      "cell_type": "code",
      "execution_count": null,
      "metadata": {
        "collapsed": false
      },
      "outputs": [],
      "source": [
        "# Choose 800 time steps for 6 days in seconds\nt = pg.utils.grange(0, 6 * 24 * 3600, n=800)\n\n# Create dispersitivity, depending on the absolute velocity\ndispersion = pg.abs(vel) * 1e-2\n\n# Solve for injection time, but we need velocities on cell nodes\nveln = mt.cellDataToNodeData(mesh, vel)\nc1 = pg.solver.solveFiniteVolume(mesh, a=dispersion, f=S, vel=veln, times=t,\n                                 scheme='PS', verbose=0)\n\n# Solve without injection starting with last result\nc2 = pg.solver.solveFiniteVolume(mesh, a=dispersion, f=0, vel=veln, u0=c1[-1],\n                                 times=t, scheme='PS', verbose=0)\n# Stack results together\nc = np.vstack((c1, c2))\n\n# We can now visualize the result:\nfor ci in c[1:][::200]:\n    pg.show(mesh, data=ci * 0.001, cMin=0, cMax=3, cMap=\"magma_r\",\n            label=\"Concentration c in g/l\")"
      ]
    },
    {
      "cell_type": "markdown",
      "metadata": {},
      "source": [
        "Simulate time-lapse electrical resistivity measurements.\n\nCreate a dipole-dipole measurement scheme and a suitable mesh for ERT forward\nsimulations.\n\n"
      ]
    },
    {
      "cell_type": "code",
      "execution_count": null,
      "metadata": {
        "collapsed": false
      },
      "outputs": [],
      "source": [
        "ertScheme = ert.createData(pg.utils.grange(-20, 20, dx=1.0), schemeName='dd')\n\nmeshERT = mt.createParaMesh(ertScheme, quality=33, paraMaxCellSize=0.2,\n                            boundaryMaxCellSize=50, smooth=[1, 2])\npg.show(meshERT)"
      ]
    },
    {
      "cell_type": "markdown",
      "metadata": {},
      "source": [
        "Use simulated concentrations to calculate bulk resistivity using Archie's Law\nand fill matrix with apparent resistivity ratios with respect to a background\nmodel:\n\n"
      ]
    },
    {
      "cell_type": "code",
      "execution_count": null,
      "metadata": {
        "collapsed": false
      },
      "outputs": [],
      "source": [
        "# Select 10 time frame to simulate ERT data\ntimesERT = pg.IVector(np.floor(np.linspace(0, len(c) - 1, 10)))\n\n# Create conductivity of fluid for salt concentration :math:`c`\nsigmaFluid = c[timesERT] * 0.1 + 0.01\n\n# Calculate bulk resistivity based on Archie's Law\nresBulk = petro.resistivityArchie(rFluid=1. / sigmaFluid, porosity=0.3, m=1.3,\n                                  mesh=mesh, meshI=meshERT, fill=1)\n\n# apply background resistivity model\nrho0 = np.zeros(meshERT.cellCount()) + 1000.\nfor c in meshERT.cells():\n    if c.center()[1] < -8:\n        rho0[c.id()] = 150.\n    elif c.center()[1] < -2:\n        rho0[c.id()] = 500.\nresis = pg.Matrix(resBulk)\nfor i, rbI in enumerate(resBulk):\n    resis[i] = 1. / ((1. / rbI) + 1. / rho0)"
      ]
    },
    {
      "cell_type": "markdown",
      "metadata": {},
      "source": [
        "Initialize and call the ERT manager for electrical simulation:\n\n"
      ]
    },
    {
      "cell_type": "code",
      "execution_count": null,
      "metadata": {
        "collapsed": false
      },
      "outputs": [],
      "source": [
        "ERT = ERTManager(verbose=False)\n# Run  simulation for  the apparent resistivities\nrhoa = ERT.simulate(meshERT, res=resis, scheme=ertScheme, \n                    returnArray=True, verbose=False)\n\nfor i in range(4):\n    ERT.showData(ertScheme, vals=rhoa[i]/rhoa[0], cMin=1e-5, cMax=1)"
      ]
    }
  ],
  "metadata": {
    "kernelspec": {
      "display_name": "Python 3",
      "language": "python",
      "name": "python3"
    },
    "language_info": {
      "codemirror_mode": {
        "name": "ipython",
        "version": 3
      },
      "file_extension": ".py",
      "mimetype": "text/x-python",
      "name": "python",
      "nbconvert_exporter": "python",
      "pygments_lexer": "ipython3",
      "version": "3.10.13"
    }
  },
  "nbformat": 4,
  "nbformat_minor": 0
}