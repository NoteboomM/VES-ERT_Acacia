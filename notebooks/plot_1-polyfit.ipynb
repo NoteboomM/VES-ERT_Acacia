{
 "cells": [
  {
   "cell_type": "code",
   "execution_count": null,
   "metadata": {},
   "outputs": [],
   "source": [
    "# Checkout www.pygimli.org for more examples"
   ]
  },
  {
   "cell_type": "markdown",
   "metadata": {},
   "source": [
    "\n",
    "# Polyfit\n",
    "\n",
    "This tutorial shows a flexible inversion with an own forward calculation that\n",
    "includes an own jacobian. We start with fitting a polynomial of degree\n",
    "$P$\n",
    "\n",
    "\\begin{align}f(x) = p_0 + p_1 x + \\ldots + p_P x^P = \\sum\\limits_{i=0}^{P} p_i x^i\\end{align}\n",
    "\n",
    "to given data $y$.\n",
    "The unknown model is the coefficient vector ${\\bf m}=[p_0,\\ldots,p_P]$.\n",
    "The vectorized function for a vector\n",
    "${\\bf x}=[x_1,\\ldots,x_N]^T$\n",
    "can be written as matrix-vector product\n",
    "\n",
    "\\begin{align}{\\bf f} ({\\bf x}) = {\\bf A} {\\bf x} \\quad\\mbox{with}\\quad {\\bf A}=\n",
    "  \\left[\n",
    "    \\begin{array}{cccc}\n",
    "        1 & x_1    & \\ldots & x_1^P \\\\\n",
    "   \\vdots & \\vdots & \\ddots & \\vdots \\\\\n",
    "        1 & x_N    & \\ldots & x_N^P\n",
    "  \\end{array}\n",
    "  \\right] =\n",
    "  [ {\\bf 1}\\quad {\\bf x} \\quad {\\bf x}^2 \\ldots {\\bf x}^P ] \\;.\\end{align}\n",
    "\n",
    "We set up the modelling operator, i.e. to return ${\\bf f}({\\bf x})$ for\n",
    "given $p_i$, as a class derived from the modelling base class.\n",
    "The latter holds the main mimic of generating Jacobian, gradients by brute\n",
    "force. The only function to overwrite is \\cw{response()}.\n",
    "\n",
    "Python is a very flexible language for programming and scripting and has many\n",
    "packages for numerical computing and graphical visualization.\n",
    "For this reason, we built Python bindings and compiled the library pygimli.\n",
    "As a main advantage, all classes can be used and derived.\n",
    "This makes the use of GIMLi very easy for non-programmers.\n",
    "All existing modelling classes can be used, but it is also easy to create new\n",
    "modelling classes.\n",
    "\n",
    "We exemplify this by the preceding example.\n",
    "\n",
    "First, the library must be imported.\n",
    "\n",
    "To avoid name clashes with other libraries we suggest to import `pygimli` and\n",
    "alias it to an easy name (as usually done for numpy or matplotlib), e.g. by\n"
   ]
  },
  {
   "cell_type": "code",
   "execution_count": 1,
   "metadata": {},
   "outputs": [],
   "source": [
    "import numpy as np\n",
    "import matplotlib.pyplot as plt\n",
    "import pygimli as pg"
   ]
  },
  {
   "cell_type": "markdown",
   "metadata": {},
   "source": [
    "The modelling class is derived from ModellingBase, a constructor is defined\n",
    "and the response function is defined. Due to the linearity of the problem we\n",
    "store the matrix ${\\bf A}$, which is also the Jacobian matrix and use\n",
    "it for the forward calculation. A second function is just added as reference.\n",
    "We overwrite the method createJacobian as we know it but do nothing in the\n",
    "actual computation. If ${\\bf J}$ depends on ${\\bf m}$ this\n",
    "function must be filled.\n",
    "\n"
   ]
  },
  {
   "cell_type": "code",
   "execution_count": 2,
   "metadata": {},
   "outputs": [],
   "source": [
    "class FunctionModelling(pg.Modelling):\n",
    "    \"\"\"Forward operator for polynomial interpolation.\"\"\"\n",
    "\n",
    "    def __init__(self, nc, xvec, verbose=False):\n",
    "        super().__init__(verbose=verbose)\n",
    "        self.x_ = xvec\n",
    "        self.nc_ = nc\n",
    "        nx = len(xvec)\n",
    "        self.regionManager().setParameterCount(nc)\n",
    "        self.jacobian().resize(nx, nc)\n",
    "        for i in range(self.nc_):\n",
    "            self.jacobian().setCol(i, pg.math.pow(self.x_, i))\n",
    "\n",
    "    def response(self, model):\n",
    "        \"\"\"Return forward response by multiplying with kernel matrix.\"\"\"\n",
    "        return self.jacobian() * model\n",
    "\n",
    "    def responseDirect(self, model):\n",
    "        \"\"\"Forward response step by step.\"\"\"\n",
    "        y = pg.Vector(len(self.x_), model[0])\n",
    "\n",
    "        for i in range(1, self.nc_):\n",
    "            y += pg.math.pow(self.x_, i) * model[i]\n",
    "\n",
    "        return y\n",
    "\n",
    "    def createJacobian(self, model):\n",
    "        \"\"\"Do nothing (avoid default brute-force Jacobian).\"\"\"\n",
    "        pass  # if J depends on the model you should work here\n",
    "\n",
    "    def createStartModel(self, data):\n",
    "        \"\"\"Create some starting model in the order of the data.\"\"\"\n",
    "        return pg.Vector(self.nc_, np.mean(data)/self.nc_/3)"
   ]
  },
  {
   "cell_type": "markdown",
   "metadata": {},
   "source": [
    "Let us create some synthetic data for some x values\n",
    "\n"
   ]
  },
  {
   "cell_type": "code",
   "execution_count": 3,
   "metadata": {},
   "outputs": [],
   "source": [
    "x = np.arange(0., 10., 0.5)\n",
    "y = 1.1 + 2.1 * x - 0.2 * x**2\n",
    "error = 0.5\n",
    "np.random.seed(1337)  # make noise reproducible\n",
    "noise = np.random.randn(len(y)) * error\n",
    "y += noise"
   ]
  },
  {
   "cell_type": "code",
   "execution_count": 6,
   "metadata": {},
   "outputs": [
    {
     "name": "stdout",
     "output_type": "stream",
     "text": [
      "[-0.35159365 -0.24514118 -0.16090716 -0.87753936  0.10333224 -1.00563229\n",
      " -0.27862535  0.1686085   0.77441799 -0.68536828  0.7126457  -0.13973195\n",
      " -0.27981395  0.59319168  0.84925945 -0.84561008 -0.34976142  0.29148142\n",
      "  0.48911131 -0.60868605]\n"
     ]
    }
   ],
   "source": [
    "print(noise)"
   ]
  },
  {
   "cell_type": "markdown",
   "metadata": {},
   "source": [
    "Note the difference between error and noise. The error model is a scalar or\n",
    "a vector containing the standard deviations of the noise, which is an unknown\n",
    "realization of it. Errors are sometimes derived by stacking or estimated by\n",
    "using a relative and an absolute error contribution.\n",
    "\n"
   ]
  },
  {
   "cell_type": "markdown",
   "metadata": {},
   "source": [
    "We now start by setting up the modelling operator, and inversion and run it.\n",
    "\n"
   ]
  },
  {
   "cell_type": "code",
   "execution_count": 7,
   "metadata": {},
   "outputs": [],
   "source": [
    "fop = FunctionModelling(3, x)\n",
    "# initialize inversion with data and forward operator and set options\n",
    "inv = pg.frameworks.MarquardtInversion(fop=fop)\n",
    "# We set model transformation to linear to allow for negative values\n",
    "# (by default model parameters are expected to be positive!)\n",
    "inv.modelTrans = pg.trans.Trans()"
   ]
  },
  {
   "cell_type": "markdown",
   "metadata": {},
   "source": [
    "the problem is well-posed and does not need any regularization (lam=0)\n",
    "actual inversion run yielding coefficient model\n",
    "\n"
   ]
  },
  {
   "cell_type": "code",
   "execution_count": 8,
   "metadata": {},
   "outputs": [
    {
     "name": "stderr",
     "output_type": "stream",
     "text": [
      "11/04/24 - 16:07:48 - pyGIMLi - \u001b[0;32;49mINFO\u001b[0m - Created startmodel from forward operator: 3, min/max=0.534187/0.534187\n",
      "11/04/24 - 16:07:48 - pyGIMLi - \u001b[0;32;49mINFO\u001b[0m - Starting inversion.\n"
     ]
    },
    {
     "name": "stdout",
     "output_type": "stream",
     "text": [
      "fop: <__main__.FunctionModelling object at 0x000001C4AA6B53A0>\n",
      "Data transformation: <pgcore._pygimli_.RTrans object at 0x000001C4AA6C4190>\n",
      "Model transformation: <pgcore._pygimli_.RTrans object at 0x000001C4AA6B5AD0>\n",
      "min/max (data): 0.75/7.31\n",
      "min/max (error): 2.16%/46.98%\n",
      "min/max (start model): 0.53/0.53\n",
      "--------------------------------------------------------------------------------\n",
      "inv.iter 0 ... chi² = 2954.75\n",
      "--------------------------------------------------------------------------------\n",
      "inv.iter 1 ... chi² =    0.95 (dPhi = 99.97%) lam: 0.0\n",
      "--------------------------------------------------------------------------------\n",
      "inv.iter 2 ... chi² =    0.95 (dPhi = -0.00%) lam: 0.0\n",
      "--------------------------------------------------------------------------------\n",
      "inv.iter 3 ... chi² =    0.95 (dPhi = 0.00%) lam: 0.0\n",
      "################################################################################\n",
      "#                 Abort criterion reached: dPhi = 0.0 (< 0.5%)                 #\n",
      "################################################################################\n"
     ]
    }
   ],
   "source": [
    "coeff = inv.run(dataVals=y, absoluteError=noise, lam=0, verbose=True)"
   ]
  },
  {
   "cell_type": "markdown",
   "metadata": {},
   "source": [
    "The data and model response are plotted by\n",
    "\n"
   ]
  },
  {
   "cell_type": "code",
   "execution_count": 9,
   "metadata": {},
   "outputs": [
    {
     "data": {
      "image/png": "[encoded data removed]",
      "text/plain": [
       "<Figure size 640x480 with 1 Axes>"
      ]
     },
     "metadata": {},
     "output_type": "display_data"
    }
   ],
   "source": [
    "plt.plot(x, y, 'x', x, inv.response, '-')\n",
    "plt.show()"
   ]
  },
  {
   "cell_type": "markdown",
   "metadata": {},
   "source": [
    "The model contains the inverted coefficients\n",
    "\n"
   ]
  },
  {
   "cell_type": "code",
   "execution_count": 10,
   "metadata": {},
   "outputs": [
    {
     "name": "stdout",
     "output_type": "stream",
     "text": [
      "3 [0.9560268156985832, 2.167015593973964, -0.2067697154645879]\n"
     ]
    }
   ],
   "source": [
    "print(coeff)"
   ]
  },
  {
   "cell_type": "markdown",
   "metadata": {},
   "source": [
    "Of course the model can also be fit by higher or lower polynomials\n",
    "\n"
   ]
  },
  {
   "cell_type": "code",
   "execution_count": 11,
   "metadata": {},
   "outputs": [
    {
     "name": "stderr",
     "output_type": "stream",
     "text": [
      "11/04/24 - 16:08:26 - pyGIMLi - \u001b[0;32;49mINFO\u001b[0m - Created startmodel from forward operator: 8, min/max=0.200320/0.200320\n",
      "11/04/24 - 16:08:26 - pyGIMLi - \u001b[0;32;49mINFO\u001b[0m - Starting inversion.\n"
     ]
    },
    {
     "name": "stdout",
     "output_type": "stream",
     "text": [
      "fop: <__main__.FunctionModelling object at 0x000001C4AA91A890>\n",
      "Data transformation: <pgcore._pygimli_.RTrans object at 0x000001C4AA6C5AF0>\n",
      "Model transformation: <pgcore._pygimli_.RTrans object at 0x000001C4AA697AB0>\n",
      "min/max (data): 0.75/7.31\n",
      "min/max (error): 6.84%/66.81%\n",
      "min/max (start model): 0.2/0.2\n",
      "--------------------------------------------------------------------------------\n",
      "inv.iter 0 ... chi² = 903726955864.56\n",
      "--------------------------------------------------------------------------------\n",
      "inv.iter 1 ... chi² = 58130191.53 (dPhi = 99.99%) lam: 0.0\n",
      "--------------------------------------------------------------------------------\n",
      "inv.iter 2 ... chi² =   13.66 (dPhi = 100.00%) lam: 0.0\n",
      "--------------------------------------------------------------------------------\n",
      "inv.iter 3 ... chi² =    0.97 (dPhi = 92.87%) lam: 0.0\n",
      "--------------------------------------------------------------------------------\n",
      "inv.iter 4 ... chi² =    0.97 (dPhi = 0.49%) lam: 0.0\n",
      "################################################################################\n",
      "#                Abort criterion reached: dPhi = 0.49 (< 0.5%)                 #\n",
      "################################################################################\n",
      "8 [0.7884063680595086, 2.224665913575399, -0.387348400414236, -0.022287313612958548, 0.062243638936377105, -0.018012613843638392, 0.001964002287529287, -7.478618057832505e-05]\n"
     ]
    },
    {
     "data": {
      "image/png": "[encoded data removed]",
      "text/plain": [
       "<Figure size 640x480 with 1 Axes>"
      ]
     },
     "metadata": {},
     "output_type": "display_data"
    }
   ],
   "source": [
    "fop = FunctionModelling(8, x)\n",
    "inv = pg.frameworks.MarquardtInversion(fop=fop)\n",
    "inv.modelTrans = pg.trans.Trans()\n",
    "coeff = inv.run(dataVals=y, absoluteError=error, lam=0, verbose=True)\n",
    "print(coeff)\n",
    "plt.plot(x, y, 'x', x, inv.response, '-')\n",
    "plt.show()"
   ]
  },
  {
   "cell_type": "markdown",
   "metadata": {},
   "source": [
    "Note that the function tries to fit the noise which is also expressed in a\n",
    "chi-square value below 1, whereas the previous one was above 1. For small\n",
    "data vectors it is hard to reach exactly 1 (data fitted within noise).\n",
    "The chi-square value can be returned from the inversion object just like the\n",
    "absolute and relative RMS (root-mean-square) misfits.\n",
    "\n"
   ]
  },
  {
   "cell_type": "code",
   "execution_count": 12,
   "metadata": {},
   "outputs": [
    {
     "name": "stdout",
     "output_type": "stream",
     "text": [
      "0.9693293439470893 0.49227262364138463 9.50253013960583\n"
     ]
    }
   ],
   "source": [
    "print(inv.chi2(), inv.absrms(), inv.relrms())"
   ]
  },
  {
   "cell_type": "markdown",
   "metadata": {},
   "source": [
    "As there is often misunderstanding among the terms, we are giving some\n",
    "background here. The root-mean-square of a vector is, as the name says, the\n",
    "root of the mean squared elements (N being the length of the vector)\n",
    "\n",
    "\\begin{align}rms(v) = \\sqrt{\\frac{1}{N} \\sum_i^N v_i^2}\\end{align}\n",
    "\n",
    "We consider the misfit between data vector d and the forward response f(m).\n",
    "The simplest (absolute) measure is therefore called absolute RMS (ARMS):\n",
    "\n",
    "\\begin{align}ARMS = \\sqrt{\\frac{1}{N} \\sum_i^N \\left(d_i-f_i(m)\\right)^2}\\end{align}\n",
    "\n",
    "which can also be computed by simple numpy functions\n",
    "\n"
   ]
  },
  {
   "cell_type": "code",
   "execution_count": 13,
   "metadata": {},
   "outputs": [
    {
     "name": "stdout",
     "output_type": "stream",
     "text": [
      "0.49227262364138463\n"
     ]
    }
   ],
   "source": [
    "absmisfit = y - inv.response\n",
    "print(np.sqrt(np.mean(absmisfit**2)))"
   ]
  },
  {
   "cell_type": "markdown",
   "metadata": {},
   "source": [
    "In case of a large magnitude range (e.g. TEM voltages) one uses a logarithmic\n",
    "view (and axis) to look at the data values. Often the relative errors\n",
    "(absolute log errors) make more sense. For the relative RMS, the misfit\n",
    "values are divided by the data points itself:\n",
    "\n",
    "\\begin{align}RRMS = \\sqrt{\\frac{1}{N} \\sum_i^N \\left(\\frac{d_i-f_i(m)}{d_i}\\right)^2}\\end{align}\n",
    "\n"
   ]
  },
  {
   "cell_type": "code",
   "execution_count": 14,
   "metadata": {},
   "outputs": [
    {
     "name": "stdout",
     "output_type": "stream",
     "text": [
      "9.50253013960583\n",
      "9.329510387864607\n"
     ]
    }
   ],
   "source": [
    "relmisfit = (y - inv.response) / y\n",
    "print(np.sqrt(np.mean(relmisfit**2))*100)  # in %\n",
    "logmisfit = np.log(y) - np.log(inv.response)\n",
    "print(np.sqrt(np.mean(logmisfit**2))*100)"
   ]
  },
  {
   "cell_type": "markdown",
   "metadata": {},
   "source": [
    "So the absolut logarithmic misfit is close to the relative misfit.\n",
    "In inversion, neither of the quantities is minimized. Instead, we use the\n",
    "error to compute an error-weighted misfit (ERMS), sometimes also referred to\n",
    "as inversion RMS (to recognize since it is without data unit or %).\n",
    "\n",
    "\\begin{align}ERMS = \\sqrt{\\frac{1}{N} \\sum_i^N \\left(\\frac{d_i-f_i(m)}{e_i}\\right)^2}\\end{align}\n",
    "\n",
    "It represents the standard deviation of the error-weighted misfit.\n",
    "\n"
   ]
  },
  {
   "cell_type": "code",
   "execution_count": 15,
   "metadata": {},
   "outputs": [
    {
     "name": "stdout",
     "output_type": "stream",
     "text": [
      "0.9845452472827693\n"
     ]
    }
   ],
   "source": [
    "weighted_misfit = (y - inv.response) / error\n",
    "print(np.sqrt(np.mean((weighted_misfit**2))))"
   ]
  },
  {
   "cell_type": "markdown",
   "metadata": {},
   "source": [
    "For historical statistical reasons, instead of the standard deviation the\n",
    "variance is used and referred to as chi square.\n",
    "\n",
    "\\begin{align}\\chi^2 = \\frac{1}{N} \\sum_i^N \\left(\\frac{d_i-f_i(m)}{e_i}\\right)^2\n",
    "           = \\Phi_d / N\\end{align}\n",
    "\n",
    "whereas $\\Phi_d$ is the data objective function minimized in inversion.\n",
    "\n"
   ]
  },
  {
   "cell_type": "code",
   "execution_count": 16,
   "metadata": {},
   "outputs": [
    {
     "name": "stdout",
     "output_type": "stream",
     "text": [
      "0.9693293439470893\n"
     ]
    }
   ],
   "source": [
    "print(np.mean((weighted_misfit**2)))"
   ]
  },
  {
   "cell_type": "markdown",
   "metadata": {},
   "source": [
    "The whole history of the chi-square fit can be looked at by\n",
    "\n"
   ]
  },
  {
   "cell_type": "code",
   "execution_count": 17,
   "metadata": {},
   "outputs": [
    {
     "name": "stdout",
     "output_type": "stream",
     "text": [
      "[903726955864.5553, 58130191.5321299, 13.664081248774073, 0.9740662574947402, 0.9693293439470893]\n"
     ]
    }
   ],
   "source": [
    "print(inv.chi2History)"
   ]
  },
  {
   "cell_type": "code",
   "execution_count": null,
   "metadata": {},
   "outputs": [],
   "source": []
  }
 ],
 "metadata": {
  "kernelspec": {
   "display_name": "Python 3 (ipykernel)",
   "language": "python",
   "name": "python3"
  },
  "language_info": {
   "codemirror_mode": {
    "name": "ipython",
    "version": 3
   },
   "file_extension": ".py",
   "mimetype": "text/x-python",
   "name": "python",
   "nbconvert_exporter": "python",
   "pygments_lexer": "ipython3",
   "version": "3.10.0"
  }
 },
 "nbformat": 4,
 "nbformat_minor": 1
}
