{
  "cells": [
    {
      "cell_type": "code",
      "execution_count": null,
      "metadata": {
        "collapsed": false
      },
      "outputs": [],
      "source": [
        "# Checkout www.pygimli.org for more examples"
      ]
    },
    {
      "cell_type": "markdown",
      "metadata": {},
      "source": [
        "\n# DC-EM joint inversion\n\nJoint inversion is an important method to improve resolution properties by\ncombining different methods. In the easiest case, the methods have the same\nsubsurface parameter, for example direct current (DC) and electromagnetic (EM)\nmeasurements. In this example, we illustrate how two modelling operators can be\ncombined by the JointInversion framework, using a vertical electric sounding\n(VES) and electromagnetic frequency sounding (FDEM).\n"
      ]
    },
    {
      "cell_type": "markdown",
      "metadata": {},
      "source": [
        "A similar case has been documented by :cite:`Guenther2013NSG`.\n\n\n"
      ]
    },
    {
      "cell_type": "code",
      "execution_count": null,
      "metadata": {
        "collapsed": false
      },
      "outputs": [],
      "source": [
        "# We import the numpy and matplotlib\nimport numpy as np\nimport matplotlib.pyplot as plt\n# Next we import pyGIMLi and the modelling operators for block models\nimport pygimli as pg\nfrom pygimli.physics.em import HEMmodelling\nfrom pygimli.physics.ves import VESModelling\nfrom pygimli.frameworks import JointModelling\n# For block models we need the Marquardt-Levenberg inversion scheme\nfrom pygimli.frameworks import MarquardtInversion\nfrom pygimli.viewer.mpl import drawModel1D"
      ]
    },
    {
      "cell_type": "markdown",
      "metadata": {},
      "source": [
        "First we create a synthetic model and error models to be used later.\n\n\n"
      ]
    },
    {
      "cell_type": "code",
      "execution_count": null,
      "metadata": {
        "collapsed": false
      },
      "outputs": [],
      "source": [
        "synThk = [5, 15, 15]\nsynRes = [1000, 100, 500, 20]\nnlay = len(synRes)  # number of layers\nerrorEMabs = 1.  # absolute (ppm of primary signal)\nerrorDCrel = 3.  # in per cent\n# we use the same starting model for all methods\nstartModel = [10]*(nlay-1) + [100]*nlay"
      ]
    },
    {
      "cell_type": "markdown",
      "metadata": {},
      "source": [
        "## Part 1: Electromagnetic sounding\nWe set forward operator and generate synthetic data with noise.\n\n\n"
      ]
    },
    {
      "cell_type": "code",
      "execution_count": null,
      "metadata": {
        "collapsed": false
      },
      "outputs": [],
      "source": [
        "# MaxMin-10/Promys instrument, 1m above the ground\nnf = 10\nfreq = 2**np.arange(nf) * 110.\nfEM = HEMmodelling(nlay=nlay, height=1, f=freq, r=100, scaling=\"%\")\n\ndataEM = fEM(synThk + synRes)\nerrorEM = np.ones_like(dataEM) * errorEMabs\ndataEM += pg.randn(len(dataEM), seed=1234) * errorEM"
      ]
    },
    {
      "cell_type": "markdown",
      "metadata": {},
      "source": [
        "Result is inphase and outphase secondary fields divided by the primary field\nas a function of frequency. See inversion result & data fit figure below.\n\n\n"
      ]
    },
    {
      "cell_type": "markdown",
      "metadata": {},
      "source": [
        "We first set up the independent EM inversion and run the model.\n\n\n"
      ]
    },
    {
      "cell_type": "code",
      "execution_count": null,
      "metadata": {
        "collapsed": false
      },
      "outputs": [],
      "source": [
        "invEM = MarquardtInversion(fop=fEM, verbose=False)\nmodelEM = invEM.run(dataEM, np.abs(errorEM/dataEM), startModel=startModel)"
      ]
    },
    {
      "cell_type": "markdown",
      "metadata": {},
      "source": [
        "## Part 2: Vertical Electric Sounding\nWe set up the (DC) forward operator and generate synthetic data plus noise.\n\n\n"
      ]
    },
    {
      "cell_type": "code",
      "execution_count": null,
      "metadata": {
        "collapsed": false
      },
      "outputs": [],
      "source": [
        "ab2 = 1.3**np.arange(20) * 3.  # logarithmically equidistance starting with 3m\nna = len(ab2)\nfDC = VESModelling(ab2=ab2, mn2=np.ones_like(ab2))\ndataDC = fDC(synThk+synRes)\nerrorDC = np.ones_like(dataDC) * errorDCrel / 100.\ndataDC *= 1. + pg.randn(len(dataDC), seed=1234) * errorDC"
      ]
    },
    {
      "cell_type": "markdown",
      "metadata": {},
      "source": [
        "We set up the independent DC inversion and let it run.\n\n\n"
      ]
    },
    {
      "cell_type": "code",
      "execution_count": null,
      "metadata": {
        "collapsed": false
      },
      "outputs": [],
      "source": [
        "invDC = MarquardtInversion(fop=fDC, verbose=False)\nmodelDC = invDC.run(dataDC, errorDC, startModel=startModel)"
      ]
    },
    {
      "cell_type": "markdown",
      "metadata": {},
      "source": [
        "## Part 3: Joint inversion\nWe create a the joint forward operator using the Joint inversion framework.\n\n\n"
      ]
    },
    {
      "cell_type": "code",
      "execution_count": null,
      "metadata": {
        "collapsed": false
      },
      "outputs": [],
      "source": [
        "fDCEM = JointModelling([fDC, fEM])\nfDCEM.setData([dataDC, dataEM])  # just for sizes!"
      ]
    },
    {
      "cell_type": "markdown",
      "metadata": {},
      "source": [
        "Inversion is just as for the single inversions. The data vector is created\nby concatenating both data vectors. This is also done for the relative error.\n\n\n"
      ]
    },
    {
      "cell_type": "code",
      "execution_count": null,
      "metadata": {
        "collapsed": false
      },
      "outputs": [],
      "source": [
        "jointData = pg.cat(dataDC, dataEM)\njointError = pg.cat(errorDC, np.abs(errorEM/dataEM))\ninvDCEM = MarquardtInversion(fop=fDCEM, verbose=False)\nmodelDCEM = invDCEM.run(jointData, jointError, startModel=startModel)"
      ]
    },
    {
      "cell_type": "markdown",
      "metadata": {},
      "source": [
        "The final output of the inversion is plotted for every method. Most-important\nmeasure is the chi-squared misfit that should be close to 1.\n\n\n"
      ]
    },
    {
      "cell_type": "code",
      "execution_count": null,
      "metadata": {
        "collapsed": false
      },
      "outputs": [],
      "source": [
        "for inv in [invEM, invDC, invDCEM]:\n    inv.echoStatus()\n\nprint([invEM.chi2(), invDC.chi2(), invDCEM.chi2()])  # chi-square values"
      ]
    },
    {
      "cell_type": "markdown",
      "metadata": {},
      "source": [
        "We finally plot the inverted models along with data and model responses.\n\n\n"
      ]
    },
    {
      "cell_type": "code",
      "execution_count": null,
      "metadata": {
        "collapsed": false
      },
      "outputs": [],
      "source": [
        "fig, (ax1, ax2, ax3) = plt.subplots(figsize=(10, 5), ncols=3)\ndrawModel1D(ax1, synThk, synRes, plot='semilogx', color='C0', label=\"synth\")\ndrawModel1D(ax1, model=modelEM, color='C1', label=\"EM\")\ndrawModel1D(ax1, model=modelDC, color='C2', label=\"DC\")\ndrawModel1D(ax1, model=modelDCEM, color='C3', label=\"DC-EM\")\nax1.legend()\nax1.set_xlim((10., 1000.))\nax1.set_ylim((40., 0.))\nax1.grid(which='both')\nax2.semilogy(dataEM[0:nf], freq, 'x', color=\"C0\", label='syn IP')\nax2.semilogy(dataEM[nf:nf*2], freq, 'o', color=\"C0\", label='syn OP')\nax2.semilogy(invEM.response[0:nf], freq, '--', color=\"C1\", label='EM')\nax2.semilogy(invEM.response[nf:nf*2], freq, '--', color=\"C1\")\nax2.semilogy(invDCEM.response[na:na+nf], freq, ':', color=\"C3\", label='DCEM')\nax2.semilogy(invDCEM.response[na+nf:na+nf*2], freq, '2:', color=\"C3\")\nax2.set_ylim((min(freq), max(freq)))\nax2.set_xlabel(\"IP/OP in %\")\nax2.set_ylabel(\"$f$ in Hz\")\nax2.yaxis.set_label_position(\"right\")\nax2.grid(which='both')\nax2.legend(loc=\"best\")\nax3.loglog(dataDC, ab2, 'x-', label='syn', color=\"C0\")\nax3.loglog(invDC.response, ab2, '-', label='DC', color=\"C2\")\nax3.loglog(invDCEM.response[0:na], ab2, '-', label='DCEM', color=\"C3\")\nax3.set_ylim((max(ab2), min(ab2)))\nax3.grid(which='both')\nax3.set_xlabel(r\"$\\rho_a$ in $\\Omega$m\")\nax3.set_ylabel(\"AB/2 in m\")\nax3.yaxis.set_ticks_position(\"right\")\nax3.yaxis.set_label_position(\"right\")\nax3.legend()"
      ]
    },
    {
      "cell_type": "markdown",
      "metadata": {},
      "source": [
        "All three inversions are able to reveal the subsurface structures.\nEM fails to describe the first layer-resistivity and also its thickness, for\nwhich DC does a better job. Both are similarly away from the synthetic model\nregarding the resistivity and upper depth of the third layer. EM can better\nresolve the good conductor at depth as expected.\nThe joint inversion result combines the resolution properties of both methods\nand yields a result that is very close to the synthetic.\n\n\n"
      ]
    },
    {
      "cell_type": "code",
      "execution_count": null,
      "metadata": {
        "collapsed": false
      },
      "outputs": [],
      "source": [
        "# G\u00fcnther, T. (2013): On Inversion of Frequency Domain Electromagnetic Data in\n# Salt Water Problems - Sensitivity and Resolution. Ext. Abstr., 19th European\n# Meeting of Environmental and Engineering Geophysics, Bochum, Germany."
      ]
    }
  ],
  "metadata": {
    "kernelspec": {
      "display_name": "Python 3",
      "language": "python",
      "name": "python3"
    },
    "language_info": {
      "codemirror_mode": {
        "name": "ipython",
        "version": 3
      },
      "file_extension": ".py",
      "mimetype": "text/x-python",
      "name": "python",
      "nbconvert_exporter": "python",
      "pygments_lexer": "ipython3",
      "version": "3.10.13"
    }
  },
  "nbformat": 4,
  "nbformat_minor": 0
}