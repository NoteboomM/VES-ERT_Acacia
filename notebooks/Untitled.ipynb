{
 "cells": [
  {
   "cell_type": "code",
   "execution_count": 2,
   "id": "869ab6bd",
   "metadata": {},
   "outputs": [],
   "source": [
    "# Notebook example for various constraint approaches for Op 't Hof ERT. Code drawn from my python script to experiment \n",
    "# with these operations. Thanks to the pyGIMLi team for the code and examples."
   ]
  },
  {
   "cell_type": "code",
   "execution_count": null,
   "id": "4a03f6bb",
   "metadata": {},
   "outputs": [],
   "source": []
  }
 ],
 "metadata": {
  "kernelspec": {
   "display_name": "Python [conda env:.conda-pg] *",
   "language": "python",
   "name": "conda-env-.conda-pg-py"
  },
  "language_info": {
   "codemirror_mode": {
    "name": "ipython",
    "version": 3
   },
   "file_extension": ".py",
   "mimetype": "text/x-python",
   "name": "python",
   "nbconvert_exporter": "python",
   "pygments_lexer": "ipython3",
   "version": "3.11.8"
  }
 },
 "nbformat": 4,
 "nbformat_minor": 5
}
