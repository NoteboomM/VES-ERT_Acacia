{
 "cells": [
  {
   "cell_type": "code",
   "execution_count": 2,
   "id": "869ab6bd",
   "metadata": {},
   "outputs": [],
   "source": [
    "# Notebook example for various constraint approaches for Op 't Hof ERT. Code drawn from my python script to experiment \n",
    "# with these operations. Thanks to the pyGIMLi team for the code and examples."
   ]
  },
  {
   "cell_type": "code",
   "execution_count": 2,
   "id": "4a03f6bb",
   "metadata": {},
   "outputs": [
    {
     "name": "stdout",
     "output_type": "stream",
     "text": [
      "Requirement already satisfied: pygimli in c:\\users\\matthew.noteboom\\.conda\\envs\\pg\\lib\\site-packages (1.5.2)\n",
      "Requirement already satisfied: tetgen in c:\\users\\matthew.noteboom\\.conda\\envs\\pg\\lib\\site-packages (0.6.5)\n",
      "Collecting numpy<3,>=2 (from tetgen)\n",
      "  Using cached numpy-2.1.1-cp311-cp311-win_amd64.whl.metadata (59 kB)\n",
      "Requirement already satisfied: pyvista>=0.31.0 in c:\\users\\matthew.noteboom\\.conda\\envs\\pg\\lib\\site-packages (from tetgen) (0.44.1)\n",
      "Requirement already satisfied: matplotlib>=3.0.1 in c:\\users\\matthew.noteboom\\.conda\\envs\\pg\\lib\\site-packages (from pyvista>=0.31.0->tetgen) (3.9.1)\n",
      "Requirement already satisfied: pillow in c:\\users\\matthew.noteboom\\.conda\\envs\\pg\\lib\\site-packages (from pyvista>=0.31.0->tetgen) (10.4.0)\n",
      "Requirement already satisfied: pooch in c:\\users\\matthew.noteboom\\.conda\\envs\\pg\\lib\\site-packages (from pyvista>=0.31.0->tetgen) (1.8.2)\n",
      "Requirement already satisfied: scooby>=0.5.1 in c:\\users\\matthew.noteboom\\.conda\\envs\\pg\\lib\\site-packages (from pyvista>=0.31.0->tetgen) (0.10.0)\n",
      "Requirement already satisfied: vtk in c:\\users\\matthew.noteboom\\.conda\\envs\\pg\\lib\\site-packages (from pyvista>=0.31.0->tetgen) (9.2.6)\n",
      "Requirement already satisfied: typing-extensions in c:\\users\\matthew.noteboom\\.conda\\envs\\pg\\lib\\site-packages (from pyvista>=0.31.0->tetgen) (4.12.2)\n",
      "Requirement already satisfied: contourpy>=1.0.1 in c:\\users\\matthew.noteboom\\.conda\\envs\\pg\\lib\\site-packages (from matplotlib>=3.0.1->pyvista>=0.31.0->tetgen) (1.3.0)\n",
      "Requirement already satisfied: cycler>=0.10 in c:\\users\\matthew.noteboom\\.conda\\envs\\pg\\lib\\site-packages (from matplotlib>=3.0.1->pyvista>=0.31.0->tetgen) (0.12.1)\n",
      "Requirement already satisfied: fonttools>=4.22.0 in c:\\users\\matthew.noteboom\\.conda\\envs\\pg\\lib\\site-packages (from matplotlib>=3.0.1->pyvista>=0.31.0->tetgen) (4.54.0)\n",
      "Requirement already satisfied: kiwisolver>=1.3.1 in c:\\users\\matthew.noteboom\\.conda\\envs\\pg\\lib\\site-packages (from matplotlib>=3.0.1->pyvista>=0.31.0->tetgen) (1.4.7)\n",
      "Requirement already satisfied: packaging>=20.0 in c:\\users\\matthew.noteboom\\.conda\\envs\\pg\\lib\\site-packages (from matplotlib>=3.0.1->pyvista>=0.31.0->tetgen) (24.1)\n",
      "Requirement already satisfied: pyparsing>=2.3.1 in c:\\users\\matthew.noteboom\\.conda\\envs\\pg\\lib\\site-packages (from matplotlib>=3.0.1->pyvista>=0.31.0->tetgen) (3.1.4)\n",
      "Requirement already satisfied: python-dateutil>=2.7 in c:\\users\\matthew.noteboom\\.conda\\envs\\pg\\lib\\site-packages (from matplotlib>=3.0.1->pyvista>=0.31.0->tetgen) (2.9.0)\n",
      "Requirement already satisfied: platformdirs>=2.5.0 in c:\\users\\matthew.noteboom\\.conda\\envs\\pg\\lib\\site-packages (from pooch->pyvista>=0.31.0->tetgen) (4.3.6)\n",
      "Requirement already satisfied: requests>=2.19.0 in c:\\users\\matthew.noteboom\\.conda\\envs\\pg\\lib\\site-packages (from pooch->pyvista>=0.31.0->tetgen) (2.32.3)\n",
      "Requirement already satisfied: six>=1.5 in c:\\users\\matthew.noteboom\\.conda\\envs\\pg\\lib\\site-packages (from python-dateutil>=2.7->matplotlib>=3.0.1->pyvista>=0.31.0->tetgen) (1.16.0)\n",
      "Requirement already satisfied: charset-normalizer<4,>=2 in c:\\users\\matthew.noteboom\\.conda\\envs\\pg\\lib\\site-packages (from requests>=2.19.0->pooch->pyvista>=0.31.0->tetgen) (3.3.2)\n",
      "Requirement already satisfied: idna<4,>=2.5 in c:\\users\\matthew.noteboom\\.conda\\envs\\pg\\lib\\site-packages (from requests>=2.19.0->pooch->pyvista>=0.31.0->tetgen) (3.10)\n",
      "Requirement already satisfied: urllib3<3,>=1.21.1 in c:\\users\\matthew.noteboom\\.conda\\envs\\pg\\lib\\site-packages (from requests>=2.19.0->pooch->pyvista>=0.31.0->tetgen) (2.2.3)\n",
      "Requirement already satisfied: certifi>=2017.4.17 in c:\\users\\matthew.noteboom\\.conda\\envs\\pg\\lib\\site-packages (from requests>=2.19.0->pooch->pyvista>=0.31.0->tetgen) (2024.8.30)\n",
      "Using cached numpy-2.1.1-cp311-cp311-win_amd64.whl (12.9 MB)\n",
      "Installing collected packages: numpy\n",
      "  Attempting uninstall: numpy\n",
      "    Found existing installation: numpy None\n"
     ]
    },
    {
     "name": "stderr",
     "output_type": "stream",
     "text": [
      "error: uninstall-no-record-file\n",
      "\n",
      "Cannot uninstall numpy None\n",
      "\n",
      "The package's contents are unknown: no RECORD file was found for numpy.\n",
      "\n",
      "hint: You might be able to recover from this via: pip install --force-reinstall --no-deps numpy==1.26.4\n"
     ]
    }
   ],
   "source": [
    "!pip install pygimli tetgen;"
   ]
  },
  {
   "cell_type": "code",
   "execution_count": 3,
   "id": "86cd9a09",
   "metadata": {},
   "outputs": [],
   "source": [
    "import numpy as np\n"
   ]
  },
  {
   "cell_type": "code",
   "execution_count": 5,
   "id": "3d686913",
   "metadata": {},
   "outputs": [
    {
     "ename": "TypeError",
     "evalue": "Cannot interpret '5' as a data type",
     "output_type": "error",
     "traceback": [
      "\u001b[1;31m---------------------------------------------------------------------------\u001b[0m",
      "\u001b[1;31mTypeError\u001b[0m                                 Traceback (most recent call last)",
      "Cell \u001b[1;32mIn[5], line 1\u001b[0m\n\u001b[1;32m----> 1\u001b[0m myarray \u001b[38;5;241m=\u001b[39m \u001b[43mnp\u001b[49m\u001b[38;5;241;43m.\u001b[39;49m\u001b[43mones\u001b[49m\u001b[43m(\u001b[49m\u001b[38;5;241;43m5\u001b[39;49m\u001b[43m,\u001b[49m\u001b[38;5;241;43m5\u001b[39;49m\u001b[43m)\u001b[49m\n\u001b[0;32m      2\u001b[0m myarray\n",
      "File \u001b[1;32m~\\.conda\\envs\\pg\\Lib\\site-packages\\numpy\\_core\\numeric.py:206\u001b[0m, in \u001b[0;36mones\u001b[1;34m(shape, dtype, order, device, like)\u001b[0m\n\u001b[0;32m    201\u001b[0m \u001b[38;5;28;01mif\u001b[39;00m like \u001b[38;5;129;01mis\u001b[39;00m \u001b[38;5;129;01mnot\u001b[39;00m \u001b[38;5;28;01mNone\u001b[39;00m:\n\u001b[0;32m    202\u001b[0m     \u001b[38;5;28;01mreturn\u001b[39;00m _ones_with_like(\n\u001b[0;32m    203\u001b[0m         like, shape, dtype\u001b[38;5;241m=\u001b[39mdtype, order\u001b[38;5;241m=\u001b[39morder, device\u001b[38;5;241m=\u001b[39mdevice\n\u001b[0;32m    204\u001b[0m     )\n\u001b[1;32m--> 206\u001b[0m a \u001b[38;5;241m=\u001b[39m \u001b[43mempty\u001b[49m\u001b[43m(\u001b[49m\u001b[43mshape\u001b[49m\u001b[43m,\u001b[49m\u001b[43m \u001b[49m\u001b[43mdtype\u001b[49m\u001b[43m,\u001b[49m\u001b[43m \u001b[49m\u001b[43morder\u001b[49m\u001b[43m,\u001b[49m\u001b[43m \u001b[49m\u001b[43mdevice\u001b[49m\u001b[38;5;241;43m=\u001b[39;49m\u001b[43mdevice\u001b[49m\u001b[43m)\u001b[49m\n\u001b[0;32m    207\u001b[0m multiarray\u001b[38;5;241m.\u001b[39mcopyto(a, \u001b[38;5;241m1\u001b[39m, casting\u001b[38;5;241m=\u001b[39m\u001b[38;5;124m'\u001b[39m\u001b[38;5;124munsafe\u001b[39m\u001b[38;5;124m'\u001b[39m)\n\u001b[0;32m    208\u001b[0m \u001b[38;5;28;01mreturn\u001b[39;00m a\n",
      "\u001b[1;31mTypeError\u001b[0m: Cannot interpret '5' as a data type"
     ]
    }
   ],
   "source": [
    "myarray = np.ones[5,5]\n",
    "myarray"
   ]
  },
  {
   "cell_type": "code",
   "execution_count": null,
   "id": "404696ec",
   "metadata": {},
   "outputs": [],
   "source": []
  }
 ],
 "metadata": {
  "kernelspec": {
   "display_name": "Python [conda env:.conda-pg] *",
   "language": "python",
   "name": "conda-env-.conda-pg-py"
  },
  "language_info": {
   "codemirror_mode": {
    "name": "ipython",
    "version": 3
   },
   "file_extension": ".py",
   "mimetype": "text/x-python",
   "name": "python",
   "nbconvert_exporter": "python",
   "pygments_lexer": "ipython3",
   "version": "3.11.8"
  }
 },
 "nbformat": 4,
 "nbformat_minor": 5
}
