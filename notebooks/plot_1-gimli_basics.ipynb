{
 "cells": [
  {
   "cell_type": "code",
   "execution_count": null,
   "metadata": {},
   "outputs": [],
   "source": [
    "# Checkout www.pygimli.org for more examples"
   ]
  },
  {
   "cell_type": "markdown",
   "metadata": {},
   "source": [
    "\n",
    "# GIMLi basics\n",
    "\n",
    "This is the first tutorial where we demonstrate the general use of\n",
    ":term:`GIMLi` in Python, i.e., :term:`pyGIMLi`.\n",
    "\n",
    "The modelling as well as the inversion part of :term:`GIMLi` often requires a\n",
    "spatial discretization for the domain of interest, the so called\n",
    ":gimliapi:`GIMLI::Mesh`.\n",
    "This tutorial shows some basic aspects of handling a mesh.\n",
    "\n",
    "First, the library needs to be imported.\n",
    "To avoid name clashes with other libraries we suggest to ``import pygimli`` and\n",
    "alias it to the simple abbreviation ``pg``: CR\n"
   ]
  },
  {
   "cell_type": "code",
   "execution_count": 1,
   "metadata": {},
   "outputs": [],
   "source": [
    "import pygimli as pg"
   ]
  },
  {
   "cell_type": "markdown",
   "metadata": {},
   "source": [
    "Every part of the c++ namespace :gimliapi:`GIMLI` is bound to python and can\n",
    "be used with the leading ``pg.``\n",
    "\n",
    "For instance get the current version for :term:`GIMLi` with:\n",
    "\n"
   ]
  },
  {
   "cell_type": "code",
   "execution_count": 2,
   "metadata": {},
   "outputs": [
    {
     "name": "stdout",
     "output_type": "stream",
     "text": [
      "1.5.0\n"
     ]
    }
   ],
   "source": [
    "print(pg.__version__)"
   ]
  },
  {
   "cell_type": "markdown",
   "metadata": {},
   "source": [
    "Now that we know the name space :gimliapi:`GIMLI`, we can create a first mesh.\n",
    "A mesh is represented by a collection of nodes, cells and boundaries,\n",
    "i.e., geometrical entities.\n",
    "\n",
    "<div class=\"alert alert-info\"><h4>Note</h4><p>A regularly spaced mesh consisting of rectangles or hexahedrons is\n",
    "    usually called a grid. However, a grid is just a special variant of a mesh\n",
    "    so GIMLi treats it the same. The only difference is how they are created.</p></div>\n",
    "\n",
    "GIMLi provides a collection of tools for mesh import, export and generation.\n",
    "A simple grid generation is built-in but we also provide wrappers for\n",
    "unstructured mesh generations, e.g., :term:`Triangle`, :term:`Tetgen` and\n",
    ":term:`Gmsh`. To create a 2d grid you need to give two arrays/lists of sample points\n",
    "in x and y direction, in that order, or just numbers.\n",
    "\n"
   ]
  },
  {
   "cell_type": "code",
   "execution_count": 3,
   "metadata": {},
   "outputs": [],
   "source": [
    "grid = pg.createGrid(x=[-1.0, 0.0, 1.0, 4.0], y=[-1.0, 0.0, 1.0, 4.0])"
   ]
  },
  {
   "cell_type": "markdown",
   "metadata": {},
   "source": [
    "The returned object ``grid`` is an instance of :gimliapi:`GIMLI::Mesh` and\n",
    "provides various methods for modification and io-operations. General\n",
    "information about the grid can be printed using the simple print() function.\n",
    "\n",
    "\n"
   ]
  },
  {
   "cell_type": "code",
   "execution_count": 7,
   "metadata": {},
   "outputs": [
    {
     "name": "stdout",
     "output_type": "stream",
     "text": [
      "Mesh: Nodes: 16 Cells: 9 Boundaries: 24\n"
     ]
    },
    {
     "data": {
      "text/plain": [
       "(<Axes: >, None)"
      ]
     },
     "execution_count": 7,
     "metadata": {},
     "output_type": "execute_result"
    },
    {
     "data": {
      "image/png": "[encoded data removed]",
      "text/plain": [
       "<Figure size 640x480 with 1 Axes>"
      ]
     },
     "metadata": {},
     "output_type": "display_data"
    }
   ],
   "source": [
    "print(grid)\n",
    "pg.viewer.show(grid)"
   ]
  },
  {
   "cell_type": "markdown",
   "metadata": {},
   "source": [
    "Or you can access them manually using different methods:\n",
    "\n",
    "\n"
   ]
  },
  {
   "cell_type": "code",
   "execution_count": 8,
   "metadata": {},
   "outputs": [
    {
     "name": "stdout",
     "output_type": "stream",
     "text": [
      "Mesh: Nodes: 16 Cells: 9 Boundaries: 24\n"
     ]
    }
   ],
   "source": [
    "print('Mesh: Nodes:', grid.nodeCount(),\n",
    "      'Cells:', grid.cellCount(),\n",
    "      'Boundaries:', grid.boundaryCount())"
   ]
  },
  {
   "cell_type": "markdown",
   "metadata": {},
   "source": [
    "You can iterate through all cells of the general type :gimliapi:`GIMLI::Cell`\n",
    "that also provides a lot of methods. Here we list the number of nodes and the\n",
    "node ids per cell:\n",
    "\n"
   ]
  },
  {
   "cell_type": "code",
   "execution_count": 6,
   "metadata": {},
   "outputs": [
    {
     "name": "stdout",
     "output_type": "stream",
     "text": [
      "Cell 0 has 4 nodes. Node IDs: [0, 1, 5, 4]\n",
      "Cell 1 has 4 nodes. Node IDs: [1, 2, 6, 5]\n",
      "Cell 2 has 4 nodes. Node IDs: [2, 3, 7, 6]\n",
      "Cell 3 has 4 nodes. Node IDs: [4, 5, 9, 8]\n",
      "Cell 4 has 4 nodes. Node IDs: [5, 6, 10, 9]\n",
      "Cell 5 has 4 nodes. Node IDs: [6, 7, 11, 10]\n",
      "Cell 6 has 4 nodes. Node IDs: [8, 9, 13, 12]\n",
      "Cell 7 has 4 nodes. Node IDs: [9, 10, 14, 13]\n",
      "Cell 8 has 4 nodes. Node IDs: [10, 11, 15, 14]\n",
      "<class 'pgcore._pygimli_.Quadrangle'>\n"
     ]
    }
   ],
   "source": [
    "for cell in grid.cells():\n",
    "    print(\"Cell\", cell.id(), \"has\", cell.nodeCount(),\n",
    "          \"nodes. Node IDs:\", [n.id() for n in cell.nodes()])\n",
    "\n",
    "print(type(grid.cell(0)))"
   ]
  },
  {
   "cell_type": "markdown",
   "metadata": {},
   "source": [
    "To generate the input arrays ``x`` and ``y``, you can use the\n",
    "built-in :gimliapi:`GIMLI::Vector` (pre-defined with values that are type double as\n",
    "``pg.Vector``), standard python lists or :term:`numpy` arrays,\n",
    "which are widely compatible with :term:`GIMLi` vectors.\n",
    "\n"
   ]
  },
  {
   "cell_type": "code",
   "execution_count": 9,
   "metadata": {},
   "outputs": [],
   "source": [
    "import numpy as np\n",
    "\n",
    "grid = pg.createGrid(x=np.linspace(-1.0, 1.0, 10),\n",
    "                     y=1.0 - np.logspace(np.log10(1.0), np.log10(2.0), 10))"
   ]
  },
  {
   "cell_type": "markdown",
   "metadata": {},
   "source": [
    "We can find that this new ``grid`` contains\n",
    "\n",
    "\n"
   ]
  },
  {
   "cell_type": "code",
   "execution_count": 11,
   "metadata": {},
   "outputs": [
    {
     "name": "stdout",
     "output_type": "stream",
     "text": [
      "81\n"
     ]
    },
    {
     "data": {
      "text/plain": [
       "(<Axes: >, None)"
      ]
     },
     "execution_count": 11,
     "metadata": {},
     "output_type": "execute_result"
    },
    {
     "data": {
      "image/png": "[encoded data removed]",
      "text/plain": [
       "<Figure size 640x480 with 1 Axes>"
      ]
     },
     "metadata": {},
     "output_type": "display_data"
    }
   ],
   "source": [
    "print(grid.cellCount())\n",
    "pg.viewer.show(grid)"
   ]
  },
  {
   "cell_type": "markdown",
   "metadata": {},
   "source": [
    "rectangles of type :gimliapi:`GIMLI::Quadrangle` derived from the\n",
    "base type :gimliapi:`GIMLI::Cell`, edges of type :gimliapi:`GIMLI::Edge`, \n",
    "which are boundaries of the general type :gimliapi:`GIMLI::Boundary`.\n",
    "\n",
    "\n"
   ]
  },
  {
   "cell_type": "code",
   "execution_count": 12,
   "metadata": {},
   "outputs": [
    {
     "name": "stdout",
     "output_type": "stream",
     "text": [
      "180\n"
     ]
    }
   ],
   "source": [
    "print(grid.boundaryCount())"
   ]
  },
  {
   "cell_type": "markdown",
   "metadata": {},
   "source": [
    "The mesh can be saved and loaded in our binary mesh format ``.bms``.\n",
    "Or exported into ``.vtk`` format for 2D or 3D visualization using\n",
    ":term:`Paraview`.\n",
    "\n",
    "However, we recommend visualizing 2-dimensional content using python scripts\n",
    "that provide better exports to graphics files (e.g., png, pdf, svg).\n",
    "In :term:`pygimli` we provide some basic post-processing routines using\n",
    "the :term:`matplotlib` visualization framework. The main visualization call\n",
    "is :py:mod:`pygimli.viewer.show` which is sufficient for most meshes,\n",
    "fields, models and streamline views.\n",
    "\n"
   ]
  },
  {
   "cell_type": "code",
   "execution_count": 13,
   "metadata": {},
   "outputs": [
    {
     "data": {
      "image/png": "[encoded data removed]",
      "text/plain": [
       "<Figure size 640x480 with 1 Axes>"
      ]
     },
     "metadata": {},
     "output_type": "display_data"
    }
   ],
   "source": [
    "pg.viewer.show(grid)\n",
    "pg.wait()"
   ]
  },
  {
   "cell_type": "markdown",
   "metadata": {},
   "source": [
    "For more control you can also use the appropriate draw methods\n",
    ":py:mod:`pygimli.viewer.mpl.drawMesh`.\n",
    "\n"
   ]
  }
 ],
 "metadata": {
  "kernelspec": {
   "display_name": "Python 3 (ipykernel)",
   "language": "python",
   "name": "python3"
  },
  "language_info": {
   "codemirror_mode": {
    "name": "ipython",
    "version": 3
   },
   "file_extension": ".py",
   "mimetype": "text/x-python",
   "name": "python",
   "nbconvert_exporter": "python",
   "pygments_lexer": "ipython3",
   "version": "3.9.18"
  }
 },
 "nbformat": 4,
 "nbformat_minor": 1
}
