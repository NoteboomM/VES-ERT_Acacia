{
 "cells": [
  {
   "cell_type": "code",
   "execution_count": null,
   "metadata": {},
   "outputs": [],
   "source": [
    "# Checkout www.pygimli.org for more examples"
   ]
  },
  {
   "cell_type": "markdown",
   "metadata": {},
   "source": [
    "\n",
    "# Simple fit\n",
    "\n",
    "This tutorial shows how to do the simplest inversion case, a curve fit, by\n",
    "setting up a custom forward operator. The function to be fitted is`\n",
    "\n",
    "\\begin{align}f(x) = A \\cdot e^{-x/X}\\end{align}\n",
    "\n",
    "with the two unknown coefficients A (a signal  amplitude) and X (a decay rate).\n",
    "Both A and X are assumed to be positive which is often the case for physical\n",
    "properties. The easiest way to do this is via a logarithmic transformation of\n",
    "the model vector (containing A and X) which is very easily done in pyGIMLi.\n",
    "\n",
    "First we import the pygimli library under a short name pg and the numerics\n",
    "library numpy. Additionally we load the python plotting module of the library\n",
    "matplotlib. Both are contained in most python distributions and systems.\n"
   ]
  },
  {
   "cell_type": "code",
   "execution_count": 1,
   "metadata": {},
   "outputs": [],
   "source": [
    "import numpy as np\n",
    "import matplotlib.pyplot as plt\n",
    "import pygimli as pg"
   ]
  },
  {
   "cell_type": "markdown",
   "metadata": {},
   "source": [
    "We set up the modelling operator, i.e. to return ${\\bf f}({\\bf x})$ for\n",
    "given model parameters A and X subsumed in a vector. In order to be able to\n",
    "use operator in inversion, we derive from the abstract modelling base class.\n",
    "The latter holds the main mimic of generating Jacobian and adminstrating the\n",
    "model, the regularization and so on. The only function to overwrite is\n",
    "**response()**. If no function **createJacobian** is provided, they are\n",
    "computed by brute force (forward calculations with altered parameters).\n",
    "\n"
   ]
  },
  {
   "cell_type": "code",
   "execution_count": 2,
   "metadata": {},
   "outputs": [],
   "source": [
    "class ExpModelling(pg.Modelling):\n",
    "    \"\"\"Exponential decay function modelling operator.\"\"\"\n",
    "    def __init__(self, xvec, verbose=False):\n",
    "        \"\"\"Initialize with storing x values.\"\"\"\n",
    "        super().__init__()\n",
    "        self.x = xvec\n",
    "\n",
    "    def response(self, model):\n",
    "        \"\"\"Model response, i.e. A*exp(-x/x0).\"\"\"\n",
    "        return model[0] * pg.exp(-self.x / model[1])\n",
    "\n",
    "    def createStartModel(self, dataVals):\n",
    "        return pg.Vector([1.0, 3.0])"
   ]
  },
  {
   "cell_type": "markdown",
   "metadata": {},
   "source": [
    "The init function saves the x vector and defines the parameterization, i.e.\n",
    "two independent parameters (a 1D mesh with 1 cell and 2 properties).\n",
    "The response function computes the function using A=model[0] and X=model[1]\n",
    "The function startModel defines a meaningful starting vector. There are other\n",
    "methods to set the starting model as inv.setModel() but this one is a default\n",
    "one for people who use the class and forget about a starting model.\n",
    "\n"
   ]
  },
  {
   "cell_type": "markdown",
   "metadata": {},
   "source": [
    "We first create an abscissa vector using numpy (note that pygimli also\n",
    "provides an exp function and generate synthetic data with two arbitrary A and\n",
    "X values.\n",
    "\n"
   ]
  },
  {
   "cell_type": "code",
   "execution_count": 19,
   "metadata": {},
   "outputs": [],
   "source": [
    "x = np.arange(0, 10, 1e-2)\n",
    "data = 10.5 * np.exp(- x / 550e-3)"
   ]
  },
  {
   "cell_type": "markdown",
   "metadata": {},
   "source": [
    "We define an (absolute) error level and add Gaussian noise to the data.\n",
    "\n"
   ]
  },
  {
   "cell_type": "code",
   "execution_count": 21,
   "metadata": {},
   "outputs": [],
   "source": [
    "error = 0.5\n",
    "data += pg.randn(*data.shape) * error"
   ]
  },
  {
   "cell_type": "markdown",
   "metadata": {},
   "source": [
    "Next, an instance of the forward operator is created. We could use it for\n",
    "calculating the synthetic data using f.response([10.5, 0.55]) or just\n",
    "f([10.5, 0.55]). We create a real-valued (R) inversion passing the forward\n",
    "operator, the data. A verbose boolean flag could be added to provide some\n",
    "output the inversion, another one prints more and saves files for debugging.\n",
    "\n"
   ]
  },
  {
   "cell_type": "code",
   "execution_count": 22,
   "metadata": {},
   "outputs": [],
   "source": [
    "f = ExpModelling(x)\n",
    "inv = pg.frameworks.MarquardtInversion(f)"
   ]
  },
  {
   "cell_type": "markdown",
   "metadata": {},
   "source": [
    "We create a real-valued logarithmic transformation and apply it to the model.\n",
    "Similar could be done for the data which are by default treated linearly.\n",
    "We then set the error level that is used for data weighting. It can be a\n",
    "float number or a vector of data length. One can also set a relative error.\n",
    "Finally, we use an inversion style known as Marquardt scheme (pure local\n",
    "damping with decreasing the regularization parameter subsequently) and start\n",
    "with a relatively large regularization strength to avoid overshoot.\n",
    "Finally run yields the coefficient vector and we plot some statistics.\n",
    "\n"
   ]
  },
  {
   "cell_type": "code",
   "execution_count": 27,
   "metadata": {},
   "outputs": [
    {
     "name": "stderr",
     "output_type": "stream",
     "text": [
      "11/04/24 - 15:50:35 - pyGIMLi - \u001b[0;32;49mINFO\u001b[0m - Created startmodel from forward operator: 2, min/max=1.000000/3.000000\n",
      "11/04/24 - 15:50:35 - pyGIMLi - \u001b[0;32;49mINFO\u001b[0m - Starting inversion.\n"
     ]
    },
    {
     "name": "stdout",
     "output_type": "stream",
     "text": [
      "fop: <__main__.ExpModelling object at 0x000002172EAC7060>\n",
      "Data transformation: <pgcore._pygimli_.RTrans object at 0x000002172EAE98C0>\n",
      "Model transformation: <pgcore._pygimli_.RTransLog object at 0x000002172EAC6840>\n",
      "min/max (data): -1.65/11.08\n",
      "min/max (error): 4.51%/2.9e+04%\n",
      "min/max (start model): 1/3\n",
      "--------------------------------------------------------------------------------\n",
      "inv.iter 0 ... chi² =   10.57\n",
      "--------------------------------------------------------------------------------\n",
      "inv.iter 1 ... chi² =    6.96 (dPhi = 34.10%) lam: 20.0\n",
      "--------------------------------------------------------------------------------\n",
      "inv.iter 2 ... chi² =    2.54 (dPhi = 63.58%) lam: 20.0\n",
      "--------------------------------------------------------------------------------\n",
      "inv.iter 3 ... chi² =    1.15 (dPhi = 54.70%) lam: 20.0\n",
      "--------------------------------------------------------------------------------\n",
      "inv.iter 4 ... chi² =    1.14 (dPhi = 0.40%) lam: 20.0\n",
      "################################################################################\n",
      "#                 Abort criterion reached: dPhi = 0.4 (< 0.5%)                 #\n",
      "################################################################################\n",
      "546.1259349768026 1.1440531334505406\n"
     ]
    }
   ],
   "source": [
    "coeff = inv.run(data, absoluteError=error, verbose=True)\n",
    "print(inv.relrms(), inv.chi2())"
   ]
  },
  {
   "cell_type": "markdown",
   "metadata": {},
   "source": [
    "We see that after a few iterations the absolute rms value equals the noise\n",
    "level corresponding to a chi-squared misfit value of 1 as it should be the\n",
    "case for synthetic data. The relative rms (in %) is less relevant here but\n",
    "can be for other applications. Additionally the ranges for model and model\n",
    "response are given and the objective function consisting of data misfit and\n",
    "model roughness times lambda. Note that due to the local regularization the\n",
    "second term does not contribute to Phi.\n",
    "\n"
   ]
  },
  {
   "cell_type": "markdown",
   "metadata": {},
   "source": [
    "We finally create a plotting figure and plot both data and model response.\n",
    "\n"
   ]
  },
  {
   "cell_type": "code",
   "execution_count": 24,
   "metadata": {},
   "outputs": [
    {
     "data": {
      "image/png": "[encoded data removed]",
      "text/plain": [
       "<Figure size 640x480 with 1 Axes>"
      ]
     },
     "metadata": {},
     "output_type": "display_data"
    }
   ],
   "source": [
    "plt.figure()\n",
    "plt.plot(x, data, 'x', x, inv.response, '-')\n",
    "plt.grid(True)"
   ]
  },
  {
   "cell_type": "markdown",
   "metadata": {},
   "source": [
    "The resulting model vector has a length of 2 and consists of the inverted A\n",
    "and X values that are close to the synthetic values, being equivalent within\n",
    "error bounds.\n",
    "\n"
   ]
  },
  {
   "cell_type": "code",
   "execution_count": 28,
   "metadata": {},
   "outputs": [
    {
     "name": "stdout",
     "output_type": "stream",
     "text": [
      "2 [10.658116400343824, 0.5543542256605118]\n"
     ]
    }
   ],
   "source": [
    "print(coeff)"
   ]
  },
  {
   "cell_type": "markdown",
   "metadata": {},
   "source": [
    "If you are interested which way the inversion took, you can have a look at\n",
    "the model history.\n",
    "\n"
   ]
  },
  {
   "cell_type": "code",
   "execution_count": 29,
   "metadata": {},
   "outputs": [
    {
     "name": "stdout",
     "output_type": "stream",
     "text": [
      "2 [1.0, 3.0]\n",
      "2 [2.6925778154045137, 1.1410971970118813]\n",
      "2 [6.989047206841573, 0.5807642189191801]\n",
      "2 [10.483467304959188, 0.5514532282883442]\n",
      "2 [10.658116400343824, 0.5543542256605118]\n"
     ]
    }
   ],
   "source": [
    "for model in inv.modelHistory:\n",
    "    print(model)\n",
    "\n",
    "plt.show()"
   ]
  },
  {
   "cell_type": "markdown",
   "metadata": {},
   "source": []
  }
 ],
 "metadata": {
  "kernelspec": {
   "display_name": "Python 3 (ipykernel)",
   "language": "python",
   "name": "python3"
  },
  "language_info": {
   "codemirror_mode": {
    "name": "ipython",
    "version": 3
   },
   "file_extension": ".py",
   "mimetype": "text/x-python",
   "name": "python",
   "nbconvert_exporter": "python",
   "pygments_lexer": "ipython3",
   "version": "3.10.0"
  }
 },
 "nbformat": 4,
 "nbformat_minor": 1
}
