{
 "cells": [
  {
   "cell_type": "code",
   "execution_count": null,
   "id": "68102ef0-3c44-4e4b-93a9-392e363dcf65",
   "metadata": {},
   "outputs": [],
   "source": [
    "# A notebook implementation of a script created to test 'ERT with priors' on data from Op 't Hof"
   ]
  },
  {
   "cell_type": "markdown",
   "id": "9f92e1c2-4156-4fd8-90b4-5762eef89ccb",
   "metadata": {},
   "source": [
    "# Demonstrating/applying prior ground truth information to ERT\n",
    "## Example with data from Op 't Hof, Zeeland\n",
    "\n",
    "This is a notebook version of a script previously set up and tested for the inversion of ERT roll-along data from \n",
    "Op 't Hof, Zeeland, recorded in spring 2024, to integrate some layer information and water EC data.\n",
    "\n",
    "\n"
   ]
  },
  {
   "cell_type": "code",
   "execution_count": null,
   "id": "a62c3916-7aa9-41de-85cf-ea1eaae3a639",
   "metadata": {},
   "outputs": [],
   "source": [
    "# Install pyGIMLi and dependencies to Colab - DO NOT RUN LOCALLY\n",
    "!pip install pygimli"
   ]
  },
  {
   "cell_type": "code",
   "execution_count": null,
   "id": "9d39a8b6-0201-4be3-b493-eac0dc9dbfd7",
   "metadata": {},
   "outputs": [],
   "source": [
    "import pygimli as pg\n",
    "import numpy as np\n",
    "import pandas as pd\n",
    "import matplotlib.pyplot as plt\n",
    "from pygimli.physics import ert\n",
    "import pygimli.meshtools as mt\n",
    "from pygimli.frameworks import PriorModelling, JointModelling\n",
    "from pygimli.viewer.mpl import draw1DColumn"
   ]
  }
 ],
 "metadata": {
  "kernelspec": {
   "display_name": "Python 3 (ipykernel)",
   "language": "python",
   "name": "python3"
  },
  "language_info": {
   "codemirror_mode": {
    "name": "ipython",
    "version": 3
   },
   "file_extension": ".py",
   "mimetype": "text/x-python",
   "name": "python",
   "nbconvert_exporter": "python",
   "pygments_lexer": "ipython3",
   "version": "3.11.10"
  }
 },
 "nbformat": 4,
 "nbformat_minor": 5
}
