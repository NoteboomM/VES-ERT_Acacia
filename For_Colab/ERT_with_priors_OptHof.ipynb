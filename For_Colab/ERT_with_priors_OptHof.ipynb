{
 "cells": [
  {
   "cell_type": "code",
   "execution_count": null,
   "id": "68102ef0-3c44-4e4b-93a9-392e363dcf65",
   "metadata": {},
   "outputs": [],
   "source": [
    "# A notebook implementation of a script created to test 'ERT with priors' on data from Op 't Hof"
   ]
  },
  {
   "cell_type": "markdown",
   "id": "9f92e1c2-4156-4fd8-90b4-5762eef89ccb",
   "metadata": {},
   "source": [
    "# Demonstrating/applying prior ground truth information to ERT\n",
    "## Example with data from Op 't Hof, Zeeland\n",
    "\n",
    "This is a notebook version of a script previously set up and tested for the inversion of ERT roll-along data from Op 't Hof, Zeeland, recorded in spring 2024, to integrate some layer information and water EC data. The *a priori* data for this location is good, but more detail would be useful if the context were more complex. In this case, however, the subsurface is fairly simple.\n",
    "\n",
    "With this notebook, a possible processing sequence is introduced, starting with 'unconstrained' inversion, where no prior information is introduced. With the information from the unconstrained inversion, we can then integrate other information we (may) have about the subsurface, such as layer boundaries and/or resistivity information. The most complex constraint method in pyGIMLi (as of September 2024) is apply geostatistical regularisation to integrate a vertical resistivity-depth profile (e.g. from borehole measurements).\n",
    "\n",
    "There is more background on regularisation (quite theoretical) on the pyGIMLi website at [Regularization - concepts explained](https://www.pygimli.org/_tutorials_auto/3_inversion/plot_5_Regularization.html) and [Geostatistical regularization](https://www.pygimli.org/_tutorials_auto/3_inversion/plot_6-geostatConstraints.html) along with an example using more complex *a priori* data at [Incorporating prior data into ERT inversion](https://www.pygimli.org/_examples_auto/6_inversion/plot_5_ert_with_priors.html).\n",
    "\n",
    "\n"
   ]
  },
  {
   "cell_type": "markdown",
   "id": "ced5ed86-7e81-4842-93d7-cc2c5f5decec",
   "metadata": {},
   "source": [
    "The first steps are to load pyGIMLi into the Colab space, then import the necessary packages/modules."
   ]
  },
  {
   "cell_type": "code",
   "execution_count": null,
   "id": "a62c3916-7aa9-41de-85cf-ea1eaae3a639",
   "metadata": {},
   "outputs": [],
   "source": [
    "# Install pyGIMLi and dependencies to Colab - DO NOT RUN LOCALLY\n",
    "!pip install pygimli"
   ]
  },
  {
   "cell_type": "code",
   "execution_count": null,
   "id": "9d39a8b6-0201-4be3-b493-eac0dc9dbfd7",
   "metadata": {},
   "outputs": [],
   "source": [
    "import pygimli as pg\n",
    "import numpy as np\n",
    "import pandas as pd\n",
    "import matplotlib.pyplot as plt\n",
    "from pygimli.physics import ert\n",
    "import pygimli.meshtools as mt\n",
    "from pygimli.frameworks import PriorModelling, JointModelling\n",
    "from pygimli.viewer.mpl import draw1DColumn"
   ]
  },
  {
   "cell_type": "code",
   "execution_count": null,
   "id": "79308d6b-ac7f-4afd-a149-1540a7dc2f12",
   "metadata": {},
   "outputs": [],
   "source": []
  },
  {
   "cell_type": "code",
   "execution_count": null,
   "id": "1ffcc5b7-9736-4ac5-81ce-0caa80bbfede",
   "metadata": {},
   "outputs": [],
   "source": [
    "# datafolder = \"..\\\\exampledata\\\\OptHof\\\\\""
   ]
  }
 ],
 "metadata": {
  "kernelspec": {
   "display_name": "Python 3 (ipykernel)",
   "language": "python",
   "name": "python3"
  },
  "language_info": {
   "codemirror_mode": {
    "name": "ipython",
    "version": 3
   },
   "file_extension": ".py",
   "mimetype": "text/x-python",
   "name": "python",
   "nbconvert_exporter": "python",
   "pygments_lexer": "ipython3",
   "version": "3.11.10"
  }
 },
 "nbformat": 4,
 "nbformat_minor": 5
}
